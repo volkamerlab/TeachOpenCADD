{
 "cells": [
  {
   "cell_type": "markdown",
   "metadata": {},
   "source": [
    "# T001 · Compound data acquisition (ChEMBL)\n",
    "\n",
    "Authors:\n",
    "\n",
    "- Svetlana Leng, CADD seminar 2017, Volkamer lab, Charité/FU Berlin \n",
    "- Paula Junge, CADD seminar 2018, Volkamer lab, Charité/FU Berlin\n",
    "- Dominique Sydow, 2019-2020, [Volkamer lab, Charité](https://volkamerlab.org/)\n",
    "- Andrea Volkamer, 2020, [Volkamer lab, Charité](https://volkamerlab.org/)\n",
    "- Yonghui Chen, 2020, [Volkamer lab, Charité](https://volkamerlab.org/)"
   ]
  },
  {
   "cell_type": "markdown",
   "metadata": {},
   "source": [
    "__Talktorial T001__: This talktorial is part of the TeachOpenCADD pipeline described in the [first TeachOpenCADD paper](https://jcheminf.biomedcentral.com/articles/10.1186/s13321-019-0351-x), comprising of talktorials T001-T010."
   ]
  },
  {
   "cell_type": "markdown",
   "metadata": {},
   "source": [
    "## Aim of this talktorial\n",
    "\n",
    "In this notebook, we will learn more about the ChEMBL database and how to extract data from ChEMBL, i.e. (compound, activity data) pairs for a target of interest. These data sets can be used for many cheminformatics tasks, such as similarity search, clustering or machine learning.\n",
    "\n",
    "Our work here will include finding compounds which were tested against a certain target and filtering available bioactivity data."
   ]
  },
  {
   "cell_type": "markdown",
   "metadata": {},
   "source": [
    "### Contents in *Theory*\n",
    "\n",
    "* ChEMBL database\n",
    "    * ChEMBL web services\n",
    "    * ChEMBL webresource client\n",
    "* Compound activity measures\n",
    "    * IC50 measure\n",
    "    * pIC50 value"
   ]
  },
  {
   "cell_type": "markdown",
   "metadata": {},
   "source": [
    "### Contents in *Practical*\n",
    "    \n",
    "**Goal: Get a list of compounds with bioactivity data for a given target**\n",
    "\n",
    "* Connect to ChEMBL database\n",
    "* Get target data (example: EGFR kinase)\n",
    "    * Fetch and download target data\n",
    "    * Select target ChEMBL ID\n",
    "* Get bioactivity data\n",
    "    * Fetch and download bioactivity data for target\n",
    "    * Freeze bioactivity data to ChEMBL 27\n",
    "    * Preprocess and filter bioactivity data\n",
    "* Get compound data\n",
    "    * Fetch and download compound data\n",
    "    * Preprocess and filter compound data\n",
    "* Output bioactivity-compound data\n",
    "    * Merge bioactivity and compound data, and add pIC50 values\n",
    "    * Draw molecules with highest pIC50\n",
    "    * Write output file"
   ]
  },
  {
   "cell_type": "markdown",
   "metadata": {},
   "source": [
    "### References\n",
    "\n",
    "* ChEMBL bioactivity database: [Gaulton *et al.*, <i>Nucleic Acids Res.</i> (2017), 45(Database issue), D945–D954](https://www.ncbi.nlm.nih.gov/pmc/articles/PMC5210557/)\n",
    "* ChEMBL web services: [Davies *et al.*, <i>Nucleic Acids Res.</i> (2015), <b>43</b>, 612-620](https://academic.oup.com/nar/article/43/W1/W612/2467881) \n",
    "* [ChEMBL web-interface](https://www.ebi.ac.uk/chembl/)\n",
    "*  GitHub [ChEMBL webrescource client](https://github.com/chembl/chembl_webresource_client)\n",
    "* The EBI RDF platform: [Jupp *et al.*, <i>Bioinformatics </i> (2014), 30(9), 1338-9](https://www.ncbi.nlm.nih.gov/pubmed/24413672)\n",
    "* Info on half maximal inhibitory concentration: [(p)IC50](https://en.wikipedia.org/wiki/IC50)\n",
    "* [UniProt website](https://www.uniprot.org/)"
   ]
  },
  {
   "cell_type": "markdown",
   "metadata": {},
   "source": [
    "## Theory"
   ]
  },
  {
   "cell_type": "markdown",
   "metadata": {},
   "source": [
    "### ChEMBL database\n",
    ">\"ChEMBL is a manually curated database of bioactive molecules with drug-like properties. It brings together chemical, bioactivity and genomic data to aid the translation of genomic information into effective new drugs.\" ([ChEMBL website](https://www.ebi.ac.uk/chembl/))\n",
    "\n",
    "* Open large-scale bioactivity database\n",
    "* **Current data content (as of 09.2020, ChEMBL 27):**\n",
    "    * \\>1.9 million distinct compounds\n",
    "    * \\>16 million activity values\n",
    "    * Assays are mapped to ~13,000 targets\n",
    "* **Data sources** include scientific literature, PubChem bioassays, Drugs for Neglected Diseases Initiative (DNDi), BindingDB database, ...\n",
    "* ChEMBL data can be accessed via a [web-interface](https://www.ebi.ac.uk/chembl/), the [EBI-RDF platform](https://www.ncbi.nlm.nih.gov/pubmed/24413672) and the [ChEMBL webrescource client](https://github.com/chembl/chembl_webresource_client)"
   ]
  },
  {
   "cell_type": "markdown",
   "metadata": {},
   "source": [
    "#### ChEMBL web services\n",
    "\n",
    "* RESTful web service\n",
    "* ChEMBL web service version 2.x resource schema: \n",
    "\n",
    "![ChEMBL web service schema](images/chembl_webservices_schema_diagram.jpg)\n",
    "\n",
    "*Figure 1:* \n",
    "\"[ChEMBL web service schema diagram](https://www.ncbi.nlm.nih.gov/pmc/articles/PMC4489243/figure/F2/). The oval shapes represent ChEMBL web service resources and the line between two resources indicates that they share a common attribute. The arrow direction shows where the primary information about a resource type can be found. A dashed line indicates the relationship between two resources behaves differently. For example, the `Image` resource provides a graphical based representation of a `Molecule`.\"\n",
    "Figure and description taken from: [<i>Nucleic Acids Res.</i> (2015), <b>43</b>, 612-620](https://academic.oup.com/nar/article/43/W1/W612/2467881)."
   ]
  },
  {
   "cell_type": "markdown",
   "metadata": {},
   "source": [
    "#### ChEMBL webresource client\n",
    "\n",
    "* Python client library for accessing ChEMBL data\n",
    "* Handles interaction with the HTTPS protocol\n",
    "* Lazy evaluation of results -> reduced number of network requests"
   ]
  },
  {
   "cell_type": "markdown",
   "metadata": {},
   "source": [
    "### Compound activity measures"
   ]
  },
  {
   "cell_type": "markdown",
   "metadata": {},
   "source": [
    "#### IC50 measure\n",
    "\n",
    "* [Half maximal inhibitory concentration](https://en.wikipedia.org/wiki/IC50)\n",
    "* Indicates how much of a particular drug or other substance is needed to inhibit a given biological process by half\n",
    "\n",
    "![Wiki_Example_IC50_curve_demonstrating_visually_how_IC50_is_derived](images/Wiki_Example_IC50_curve_demonstrating_visually_how_IC50_is_derived.png)\n",
    "\n",
    "*Figure 2:* Visual demonstration of how to derive an IC50 value: \n",
    "(i) Arrange inhibition data on y-axis and log(concentration) on x-axis. (ii) Identify maximum and minimum inhibition. (iii) The IC50 is the concentration at which the curve passes through the 50% inhibition level. Figure [\"Example IC50 curve demonstrating visually how IC50 is derived\"](https://en.wikipedia.org/wiki/IC50#/media/File:Example_IC50_curve_demonstrating_visually_how_IC50_is_derived.png) by JesseAlanGordon is licensed under [CC BY-SA 3.0](https://creativecommons.org/licenses/by-sa/3.0/)."
   ]
  },
  {
   "cell_type": "markdown",
   "metadata": {},
   "source": [
    "#### pIC50 value\n",
    "\n",
    "* To facilitate the comparison of IC50 values, which have a large value range and are given in different units (M, nM, ...), often pIC50 values are used\n",
    "* The pIC50 is the negative log of the IC50 value when converted to molar units: \n",
    "    $ pIC_{50} = -log_{10}(IC_{50}) $, where $ IC_{50}$ is specified in units of M\n",
    "* Higher pIC50 values indicate exponentially greater potency of the drug\n",
    "* Note that the conversion can be adapted to the respective IC50 unit, e.g. for nM: $pIC_{50} = -log_{10}(IC_{50}*10^{-9})= 9-log_{10}(IC_{50}) $\n",
    "\n",
    "Other activity measures:\n",
    "\n",
    "Besides, IC50 and pIC50, other bioactivity measures are used, such as the equilibrium constant [KI](https://en.wikipedia.org/wiki/Equilibrium_constant) and the half maximal effective concentration  [EC50](https://en.wikipedia.org/wiki/EC50)."
   ]
  },
  {
   "cell_type": "markdown",
   "metadata": {},
   "source": [
    "## Practical\n",
    "\n",
    "In the following, we want to download all molecules that have been tested against our target of interest, the **epidermal growth factor receptor** ([**EGFR**](https://www.uniprot.org/uniprot/P00533)) kinase."
   ]
  },
  {
   "cell_type": "markdown",
   "metadata": {},
   "source": [
    "### Connect to ChEMBL database"
   ]
  },
  {
   "cell_type": "markdown",
   "metadata": {},
   "source": [
    "First, the ChEMBL webresource client as well as other Python libraries are imported."
   ]
  },
  {
   "cell_type": "code",
   "execution_count": 1,
   "metadata": {},
   "outputs": [],
   "source": [
    "import math\n",
    "from pathlib import Path\n",
    "from zipfile import ZipFile\n",
    "from tempfile import TemporaryDirectory\n",
    "\n",
    "import numpy as np\n",
    "import pandas as pd\n",
    "from rdkit.Chem import PandasTools\n",
    "from chembl_webresource_client.new_client import new_client\n",
    "from tqdm.auto import tqdm"
   ]
  },
  {
   "cell_type": "code",
   "execution_count": 2,
   "metadata": {},
   "outputs": [],
   "source": [
    "HERE = Path(_dh[-1])\n",
    "DATA = HERE / \"data\""
   ]
  },
  {
   "cell_type": "markdown",
   "metadata": {},
   "source": [
    "Next, we create resource objects for API access."
   ]
  },
  {
   "cell_type": "code",
   "execution_count": 3,
   "metadata": {},
   "outputs": [],
   "source": [
    "targets_api = new_client.target\n",
    "compounds_api = new_client.molecule\n",
    "bioactivities_api = new_client.activity"
   ]
  },
  {
   "cell_type": "code",
   "execution_count": 4,
   "metadata": {},
   "outputs": [
    {
     "data": {
      "text/plain": [
       "chembl_webresource_client.query_set.QuerySet"
      ]
     },
     "execution_count": 4,
     "metadata": {},
     "output_type": "execute_result"
    }
   ],
   "source": [
    "type(targets_api)"
   ]
  },
  {
   "cell_type": "markdown",
   "metadata": {},
   "source": [
    "### Get target data (EGFR kinase)\n",
    "\n",
    "* Get UniProt ID of the target of interest (EGFR kinase:  [P00533](http://www.uniprot.org/uniprot/P00533)) from [UniProt website](https://www.uniprot.org/)\n",
    "* Use UniProt ID to get target information\n",
    "\n",
    "Select a different UniProt ID, if you are interested in another target."
   ]
  },
  {
   "cell_type": "code",
   "execution_count": 5,
   "metadata": {},
   "outputs": [],
   "source": [
    "uniprot_id = \"P00533\""
   ]
  },
  {
   "cell_type": "markdown",
   "metadata": {},
   "source": [
    "#### Fetch target data from ChEMBL"
   ]
  },
  {
   "cell_type": "code",
   "execution_count": 6,
   "metadata": {},
   "outputs": [
    {
     "name": "stdout",
     "output_type": "stream",
     "text": [
      "The type of the targets is \"<class 'chembl_webresource_client.query_set.QuerySet'>\"\n"
     ]
    }
   ],
   "source": [
    "# Get target information from ChEMBL but restrict it to specified values only\n",
    "targets = targets_api.get(target_components__accession=uniprot_id).only(\n",
    "    \"target_chembl_id\", \"organism\", \"pref_name\", \"target_type\"\n",
    ")\n",
    "print(f'The type of the targets is \"{type(targets)}\"')"
   ]
  },
  {
   "cell_type": "markdown",
   "metadata": {},
   "source": [
    "#### Download target data from ChEMBL\n",
    "\n",
    "The results of the query are stored in `targets`, a `QuerySet`, i.e. the results are not fetched from ChEMBL until we ask for it (here using `pandas.DataFrame.from_records`).\n",
    "\n",
    "More information about the `QuerySet` datatype:\n",
    "\n",
    "> QuerySets are lazy – the act of creating a QuerySet does not involve any database activity. You can stack filters together all day long, and Django will actually not run the query until the QuerySet is evaluated. \n",
    "([querysets-are-lazy](https://docs.djangoproject.com/en/3.0/topics/db/queries/#querysets-are-lazy))"
   ]
  },
  {
   "cell_type": "code",
   "execution_count": 7,
   "metadata": {},
   "outputs": [
    {
     "data": {
      "text/html": [
       "<div>\n",
       "<style scoped>\n",
       "    .dataframe tbody tr th:only-of-type {\n",
       "        vertical-align: middle;\n",
       "    }\n",
       "\n",
       "    .dataframe tbody tr th {\n",
       "        vertical-align: top;\n",
       "    }\n",
       "\n",
       "    .dataframe thead th {\n",
       "        text-align: right;\n",
       "    }\n",
       "</style>\n",
       "<table border=\"1\" class=\"dataframe\">\n",
       "  <thead>\n",
       "    <tr style=\"text-align: right;\">\n",
       "      <th></th>\n",
       "      <th>organism</th>\n",
       "      <th>pref_name</th>\n",
       "      <th>target_chembl_id</th>\n",
       "      <th>target_type</th>\n",
       "    </tr>\n",
       "  </thead>\n",
       "  <tbody>\n",
       "    <tr>\n",
       "      <th>0</th>\n",
       "      <td>Homo sapiens</td>\n",
       "      <td>Epidermal growth factor receptor erbB1</td>\n",
       "      <td>CHEMBL203</td>\n",
       "      <td>SINGLE PROTEIN</td>\n",
       "    </tr>\n",
       "    <tr>\n",
       "      <th>1</th>\n",
       "      <td>Homo sapiens</td>\n",
       "      <td>Epidermal growth factor receptor erbB1</td>\n",
       "      <td>CHEMBL203</td>\n",
       "      <td>SINGLE PROTEIN</td>\n",
       "    </tr>\n",
       "    <tr>\n",
       "      <th>2</th>\n",
       "      <td>Homo sapiens</td>\n",
       "      <td>Epidermal growth factor receptor and ErbB2 (HE...</td>\n",
       "      <td>CHEMBL2111431</td>\n",
       "      <td>PROTEIN FAMILY</td>\n",
       "    </tr>\n",
       "    <tr>\n",
       "      <th>3</th>\n",
       "      <td>Homo sapiens</td>\n",
       "      <td>Epidermal growth factor receptor</td>\n",
       "      <td>CHEMBL2363049</td>\n",
       "      <td>PROTEIN FAMILY</td>\n",
       "    </tr>\n",
       "    <tr>\n",
       "      <th>4</th>\n",
       "      <td>Homo sapiens</td>\n",
       "      <td>MER intracellular domain/EGFR extracellular do...</td>\n",
       "      <td>CHEMBL3137284</td>\n",
       "      <td>CHIMERIC PROTEIN</td>\n",
       "    </tr>\n",
       "    <tr>\n",
       "      <th>5</th>\n",
       "      <td>Homo sapiens</td>\n",
       "      <td>Protein cereblon/Epidermal growth factor receptor</td>\n",
       "      <td>CHEMBL4523680</td>\n",
       "      <td>PROTEIN-PROTEIN INTERACTION</td>\n",
       "    </tr>\n",
       "    <tr>\n",
       "      <th>6</th>\n",
       "      <td>Homo sapiens</td>\n",
       "      <td>EGFR/PPP1CA</td>\n",
       "      <td>CHEMBL4523747</td>\n",
       "      <td>PROTEIN-PROTEIN INTERACTION</td>\n",
       "    </tr>\n",
       "    <tr>\n",
       "      <th>7</th>\n",
       "      <td>Homo sapiens</td>\n",
       "      <td>VHL/EGFR</td>\n",
       "      <td>CHEMBL4523998</td>\n",
       "      <td>PROTEIN-PROTEIN INTERACTION</td>\n",
       "    </tr>\n",
       "  </tbody>\n",
       "</table>\n",
       "</div>"
      ],
      "text/plain": [
       "       organism                                          pref_name  \\\n",
       "0  Homo sapiens             Epidermal growth factor receptor erbB1   \n",
       "1  Homo sapiens             Epidermal growth factor receptor erbB1   \n",
       "2  Homo sapiens  Epidermal growth factor receptor and ErbB2 (HE...   \n",
       "3  Homo sapiens                   Epidermal growth factor receptor   \n",
       "4  Homo sapiens  MER intracellular domain/EGFR extracellular do...   \n",
       "5  Homo sapiens  Protein cereblon/Epidermal growth factor receptor   \n",
       "6  Homo sapiens                                        EGFR/PPP1CA   \n",
       "7  Homo sapiens                                           VHL/EGFR   \n",
       "\n",
       "  target_chembl_id                  target_type  \n",
       "0        CHEMBL203               SINGLE PROTEIN  \n",
       "1        CHEMBL203               SINGLE PROTEIN  \n",
       "2    CHEMBL2111431               PROTEIN FAMILY  \n",
       "3    CHEMBL2363049               PROTEIN FAMILY  \n",
       "4    CHEMBL3137284             CHIMERIC PROTEIN  \n",
       "5    CHEMBL4523680  PROTEIN-PROTEIN INTERACTION  \n",
       "6    CHEMBL4523747  PROTEIN-PROTEIN INTERACTION  \n",
       "7    CHEMBL4523998  PROTEIN-PROTEIN INTERACTION  "
      ]
     },
     "execution_count": 7,
     "metadata": {},
     "output_type": "execute_result"
    }
   ],
   "source": [
    "targets = pd.DataFrame.from_records(targets)\n",
    "targets"
   ]
  },
  {
   "cell_type": "markdown",
   "metadata": {},
   "source": [
    "#### Select target (target ChEMBL ID)\n",
    "\n",
    "After checking the entries, we select the first entry as our target of interest:\n",
    "\n",
    "`CHEMBL203`: It is a single protein and represents the human Epidermal growth factor receptor (EGFR, also named erbB1) "
   ]
  },
  {
   "cell_type": "code",
   "execution_count": 8,
   "metadata": {},
   "outputs": [
    {
     "data": {
      "text/plain": [
       "organism                                      Homo sapiens\n",
       "pref_name           Epidermal growth factor receptor erbB1\n",
       "target_chembl_id                                 CHEMBL203\n",
       "target_type                                 SINGLE PROTEIN\n",
       "Name: 0, dtype: object"
      ]
     },
     "execution_count": 8,
     "metadata": {},
     "output_type": "execute_result"
    }
   ],
   "source": [
    "target = targets.iloc[0]\n",
    "target"
   ]
  },
  {
   "cell_type": "markdown",
   "metadata": {},
   "source": [
    "Save selected ChEMBL ID."
   ]
  },
  {
   "cell_type": "code",
   "execution_count": 9,
   "metadata": {},
   "outputs": [
    {
     "name": "stdout",
     "output_type": "stream",
     "text": [
      "The target ChEMBL ID is CHEMBL203\n"
     ]
    }
   ],
   "source": [
    "chembl_id = target.target_chembl_id\n",
    "print(f\"The target ChEMBL ID is {chembl_id}\")\n",
    "# NBVAL_CHECK_OUTPUT"
   ]
  },
  {
   "cell_type": "markdown",
   "metadata": {},
   "source": [
    "### Get bioactivity data\n",
    "\n",
    "Now, we want to query bioactivity data for the target of interest."
   ]
  },
  {
   "cell_type": "markdown",
   "metadata": {},
   "source": [
    "#### Fetch bioactivity data for the target from ChEMBL"
   ]
  },
  {
   "cell_type": "markdown",
   "metadata": {},
   "source": [
    "In this step, we fetch the bioactivity data and filter it to only consider\n",
    "\n",
    "* human proteins, \n",
    "* bioactivity type IC50, \n",
    "* exact measurements (relation `'='`), and\n",
    "* binding data (assay type `'B'`)."
   ]
  },
  {
   "cell_type": "code",
   "execution_count": 10,
   "metadata": {},
   "outputs": [
    {
     "name": "stdout",
     "output_type": "stream",
     "text": [
      "Length and type of bioactivities object: 8463, <class 'chembl_webresource_client.query_set.QuerySet'>\n"
     ]
    }
   ],
   "source": [
    "bioactivities = bioactivities_api.filter(\n",
    "    target_chembl_id=chembl_id, type=\"IC50\", relation=\"=\", assay_type=\"B\"\n",
    ").only(\n",
    "    \"activity_id\",\n",
    "    \"assay_chembl_id\",\n",
    "    \"assay_description\",\n",
    "    \"assay_type\",\n",
    "    \"molecule_chembl_id\",\n",
    "    \"type\",\n",
    "    \"standard_units\",\n",
    "    \"relation\",\n",
    "    \"standard_value\",\n",
    "    \"target_chembl_id\",\n",
    "    \"target_organism\",\n",
    ")\n",
    "\n",
    "print(f\"Length and type of bioactivities object: {len(bioactivities)}, {type(bioactivities)}\")\n",
    "# NBVAL_CHECK_OUTPUT"
   ]
  },
  {
   "cell_type": "markdown",
   "metadata": {},
   "source": [
    "Our bioactivity set contains 8463 entries, each holding the following information."
   ]
  },
  {
   "cell_type": "code",
   "execution_count": 11,
   "metadata": {},
   "outputs": [
    {
     "name": "stdout",
     "output_type": "stream",
     "text": [
      "Length and type of first element: 13, <class 'dict'>\n"
     ]
    },
    {
     "data": {
      "text/plain": [
       "{'activity_id': 32260,\n",
       " 'assay_chembl_id': 'CHEMBL674637',\n",
       " 'assay_description': 'Inhibitory activity towards tyrosine phosphorylation for the epidermal growth factor-receptor kinase',\n",
       " 'assay_type': 'B',\n",
       " 'molecule_chembl_id': 'CHEMBL68920',\n",
       " 'relation': '=',\n",
       " 'standard_units': 'nM',\n",
       " 'standard_value': '41.0',\n",
       " 'target_chembl_id': 'CHEMBL203',\n",
       " 'target_organism': 'Homo sapiens',\n",
       " 'type': 'IC50',\n",
       " 'units': 'uM',\n",
       " 'value': '0.041'}"
      ]
     },
     "execution_count": 11,
     "metadata": {},
     "output_type": "execute_result"
    }
   ],
   "source": [
    "print(f\"Length and type of first element: {len(bioactivities[0])}, {type(bioactivities[0])}\")\n",
    "bioactivities[0]"
   ]
  },
  {
   "cell_type": "markdown",
   "metadata": {},
   "source": [
    "#### Download bioactivity data from ChEMBL"
   ]
  },
  {
   "cell_type": "markdown",
   "metadata": {},
   "source": [
    "Finally, we download the `QuerySet` in the form of a `pandas` `DataFrame`. \n",
    "\n",
    "> **Note**: This step should not take more than 2 minutes, if so try to rerun all cells starting from _\"Fetch bioactivity data for the target from ChEMBL\"_ or read this message below:\n",
    "\n",
    "<details>\n",
    "    \n",
    "<summary>Load a local version of the data (in case you encounter any problems while fetching the data)</summary>\n",
    "    \n",
    "If you experience difficulties to query the ChEMBL database, we also provide the resulting dataframe you will construct in the cell below. If you want to use the saved version, use the following code instead to obtain `bioactivities_df`:\n",
    "  \n",
    "```python\n",
    "# replace first line in cell below with this other line\n",
    "bioactivities_df = pd.read_csv(DATA / \"EGFR_compounds_CHEMBL27.csv.zip\", index_col=0)\n",
    "```\n",
    "\n",
    "</details>"
   ]
  },
  {
   "cell_type": "code",
   "execution_count": 12,
   "metadata": {},
   "outputs": [
    {
     "name": "stdout",
     "output_type": "stream",
     "text": [
      "DataFrame shape: (8464, 13)\n"
     ]
    },
    {
     "data": {
      "text/html": [
       "<div>\n",
       "<style scoped>\n",
       "    .dataframe tbody tr th:only-of-type {\n",
       "        vertical-align: middle;\n",
       "    }\n",
       "\n",
       "    .dataframe tbody tr th {\n",
       "        vertical-align: top;\n",
       "    }\n",
       "\n",
       "    .dataframe thead th {\n",
       "        text-align: right;\n",
       "    }\n",
       "</style>\n",
       "<table border=\"1\" class=\"dataframe\">\n",
       "  <thead>\n",
       "    <tr style=\"text-align: right;\">\n",
       "      <th></th>\n",
       "      <th>activity_id</th>\n",
       "      <th>assay_chembl_id</th>\n",
       "      <th>assay_description</th>\n",
       "      <th>assay_type</th>\n",
       "      <th>molecule_chembl_id</th>\n",
       "      <th>relation</th>\n",
       "      <th>standard_units</th>\n",
       "      <th>standard_value</th>\n",
       "      <th>target_chembl_id</th>\n",
       "      <th>target_organism</th>\n",
       "      <th>type</th>\n",
       "      <th>units</th>\n",
       "      <th>value</th>\n",
       "    </tr>\n",
       "  </thead>\n",
       "  <tbody>\n",
       "    <tr>\n",
       "      <th>0</th>\n",
       "      <td>32260</td>\n",
       "      <td>CHEMBL674637</td>\n",
       "      <td>Inhibitory activity towards tyrosine phosphory...</td>\n",
       "      <td>B</td>\n",
       "      <td>CHEMBL68920</td>\n",
       "      <td>=</td>\n",
       "      <td>nM</td>\n",
       "      <td>41.0</td>\n",
       "      <td>CHEMBL203</td>\n",
       "      <td>Homo sapiens</td>\n",
       "      <td>IC50</td>\n",
       "      <td>uM</td>\n",
       "      <td>0.041</td>\n",
       "    </tr>\n",
       "    <tr>\n",
       "      <th>1</th>\n",
       "      <td>32260</td>\n",
       "      <td>CHEMBL674637</td>\n",
       "      <td>Inhibitory activity towards tyrosine phosphory...</td>\n",
       "      <td>B</td>\n",
       "      <td>CHEMBL68920</td>\n",
       "      <td>=</td>\n",
       "      <td>nM</td>\n",
       "      <td>41.0</td>\n",
       "      <td>CHEMBL203</td>\n",
       "      <td>Homo sapiens</td>\n",
       "      <td>IC50</td>\n",
       "      <td>uM</td>\n",
       "      <td>0.041</td>\n",
       "    </tr>\n",
       "    <tr>\n",
       "      <th>2</th>\n",
       "      <td>32267</td>\n",
       "      <td>CHEMBL674637</td>\n",
       "      <td>Inhibitory activity towards tyrosine phosphory...</td>\n",
       "      <td>B</td>\n",
       "      <td>CHEMBL69960</td>\n",
       "      <td>=</td>\n",
       "      <td>nM</td>\n",
       "      <td>170.0</td>\n",
       "      <td>CHEMBL203</td>\n",
       "      <td>Homo sapiens</td>\n",
       "      <td>IC50</td>\n",
       "      <td>uM</td>\n",
       "      <td>0.17</td>\n",
       "    </tr>\n",
       "    <tr>\n",
       "      <th>3</th>\n",
       "      <td>32680</td>\n",
       "      <td>CHEMBL677833</td>\n",
       "      <td>In vitro inhibition of Epidermal growth factor...</td>\n",
       "      <td>B</td>\n",
       "      <td>CHEMBL137635</td>\n",
       "      <td>=</td>\n",
       "      <td>nM</td>\n",
       "      <td>9300.0</td>\n",
       "      <td>CHEMBL203</td>\n",
       "      <td>Homo sapiens</td>\n",
       "      <td>IC50</td>\n",
       "      <td>uM</td>\n",
       "      <td>9.3</td>\n",
       "    </tr>\n",
       "    <tr>\n",
       "      <th>4</th>\n",
       "      <td>32770</td>\n",
       "      <td>CHEMBL674643</td>\n",
       "      <td>Inhibitory concentration of EGF dependent auto...</td>\n",
       "      <td>B</td>\n",
       "      <td>CHEMBL306988</td>\n",
       "      <td>=</td>\n",
       "      <td>nM</td>\n",
       "      <td>500000.0</td>\n",
       "      <td>CHEMBL203</td>\n",
       "      <td>Homo sapiens</td>\n",
       "      <td>IC50</td>\n",
       "      <td>uM</td>\n",
       "      <td>500.0</td>\n",
       "    </tr>\n",
       "  </tbody>\n",
       "</table>\n",
       "</div>"
      ],
      "text/plain": [
       "   activity_id assay_chembl_id  \\\n",
       "0        32260    CHEMBL674637   \n",
       "1        32260    CHEMBL674637   \n",
       "2        32267    CHEMBL674637   \n",
       "3        32680    CHEMBL677833   \n",
       "4        32770    CHEMBL674643   \n",
       "\n",
       "                                   assay_description assay_type  \\\n",
       "0  Inhibitory activity towards tyrosine phosphory...          B   \n",
       "1  Inhibitory activity towards tyrosine phosphory...          B   \n",
       "2  Inhibitory activity towards tyrosine phosphory...          B   \n",
       "3  In vitro inhibition of Epidermal growth factor...          B   \n",
       "4  Inhibitory concentration of EGF dependent auto...          B   \n",
       "\n",
       "  molecule_chembl_id relation standard_units standard_value target_chembl_id  \\\n",
       "0        CHEMBL68920        =             nM           41.0        CHEMBL203   \n",
       "1        CHEMBL68920        =             nM           41.0        CHEMBL203   \n",
       "2        CHEMBL69960        =             nM          170.0        CHEMBL203   \n",
       "3       CHEMBL137635        =             nM         9300.0        CHEMBL203   \n",
       "4       CHEMBL306988        =             nM       500000.0        CHEMBL203   \n",
       "\n",
       "  target_organism  type units  value  \n",
       "0    Homo sapiens  IC50    uM  0.041  \n",
       "1    Homo sapiens  IC50    uM  0.041  \n",
       "2    Homo sapiens  IC50    uM   0.17  \n",
       "3    Homo sapiens  IC50    uM    9.3  \n",
       "4    Homo sapiens  IC50    uM  500.0  "
      ]
     },
     "execution_count": 12,
     "metadata": {},
     "output_type": "execute_result"
    }
   ],
   "source": [
    "bioactivities_df = pd.DataFrame.from_records(bioactivities)\n",
    "print(f\"DataFrame shape: {bioactivities_df.shape}\")\n",
    "bioactivities_df.head()"
   ]
  },
  {
   "cell_type": "markdown",
   "metadata": {},
   "source": [
    "Note, that we have columns for `standard_units`/`units` and `standard_values`/`values` - in the following we will use the standardized columns (standardization by ChEMBL). Thus, we drop the other two columns.\n",
    "\n",
    "If we used the `units` and `values` columns, we would need to convert all values with many different units to nM:"
   ]
  },
  {
   "cell_type": "code",
   "execution_count": 13,
   "metadata": {},
   "outputs": [
    {
     "data": {
      "text/plain": [
       "array(['uM', 'nM', 'pM', 'M', \"10'3 uM\", \"10'1 ug/ml\", 'ug ml-1',\n",
       "       \"10'-1microM\", \"10'1 uM\", \"10'-1 ug/ml\", \"10'-2 ug/ml\", \"10'2 uM\",\n",
       "       \"10'-3 ug/ml\", \"10'-2microM\", '/uM', \"10'-6g/ml\", 'mM', 'umol/L',\n",
       "       'nmol/L', \"10'-10M\", \"10'-7M\", 'nmol'], dtype=object)"
      ]
     },
     "execution_count": 13,
     "metadata": {},
     "output_type": "execute_result"
    }
   ],
   "source": [
    "bioactivities_df[\"units\"].unique()"
   ]
  },
  {
   "cell_type": "code",
   "execution_count": 14,
   "metadata": {},
   "outputs": [
    {
     "data": {
      "text/html": [
       "<div>\n",
       "<style scoped>\n",
       "    .dataframe tbody tr th:only-of-type {\n",
       "        vertical-align: middle;\n",
       "    }\n",
       "\n",
       "    .dataframe tbody tr th {\n",
       "        vertical-align: top;\n",
       "    }\n",
       "\n",
       "    .dataframe thead th {\n",
       "        text-align: right;\n",
       "    }\n",
       "</style>\n",
       "<table border=\"1\" class=\"dataframe\">\n",
       "  <thead>\n",
       "    <tr style=\"text-align: right;\">\n",
       "      <th></th>\n",
       "      <th>activity_id</th>\n",
       "      <th>assay_chembl_id</th>\n",
       "      <th>assay_description</th>\n",
       "      <th>assay_type</th>\n",
       "      <th>molecule_chembl_id</th>\n",
       "      <th>relation</th>\n",
       "      <th>standard_units</th>\n",
       "      <th>standard_value</th>\n",
       "      <th>target_chembl_id</th>\n",
       "      <th>target_organism</th>\n",
       "      <th>type</th>\n",
       "    </tr>\n",
       "  </thead>\n",
       "  <tbody>\n",
       "    <tr>\n",
       "      <th>0</th>\n",
       "      <td>32260</td>\n",
       "      <td>CHEMBL674637</td>\n",
       "      <td>Inhibitory activity towards tyrosine phosphory...</td>\n",
       "      <td>B</td>\n",
       "      <td>CHEMBL68920</td>\n",
       "      <td>=</td>\n",
       "      <td>nM</td>\n",
       "      <td>41.0</td>\n",
       "      <td>CHEMBL203</td>\n",
       "      <td>Homo sapiens</td>\n",
       "      <td>IC50</td>\n",
       "    </tr>\n",
       "    <tr>\n",
       "      <th>1</th>\n",
       "      <td>32260</td>\n",
       "      <td>CHEMBL674637</td>\n",
       "      <td>Inhibitory activity towards tyrosine phosphory...</td>\n",
       "      <td>B</td>\n",
       "      <td>CHEMBL68920</td>\n",
       "      <td>=</td>\n",
       "      <td>nM</td>\n",
       "      <td>41.0</td>\n",
       "      <td>CHEMBL203</td>\n",
       "      <td>Homo sapiens</td>\n",
       "      <td>IC50</td>\n",
       "    </tr>\n",
       "    <tr>\n",
       "      <th>2</th>\n",
       "      <td>32267</td>\n",
       "      <td>CHEMBL674637</td>\n",
       "      <td>Inhibitory activity towards tyrosine phosphory...</td>\n",
       "      <td>B</td>\n",
       "      <td>CHEMBL69960</td>\n",
       "      <td>=</td>\n",
       "      <td>nM</td>\n",
       "      <td>170.0</td>\n",
       "      <td>CHEMBL203</td>\n",
       "      <td>Homo sapiens</td>\n",
       "      <td>IC50</td>\n",
       "    </tr>\n",
       "    <tr>\n",
       "      <th>3</th>\n",
       "      <td>32680</td>\n",
       "      <td>CHEMBL677833</td>\n",
       "      <td>In vitro inhibition of Epidermal growth factor...</td>\n",
       "      <td>B</td>\n",
       "      <td>CHEMBL137635</td>\n",
       "      <td>=</td>\n",
       "      <td>nM</td>\n",
       "      <td>9300.0</td>\n",
       "      <td>CHEMBL203</td>\n",
       "      <td>Homo sapiens</td>\n",
       "      <td>IC50</td>\n",
       "    </tr>\n",
       "    <tr>\n",
       "      <th>4</th>\n",
       "      <td>32770</td>\n",
       "      <td>CHEMBL674643</td>\n",
       "      <td>Inhibitory concentration of EGF dependent auto...</td>\n",
       "      <td>B</td>\n",
       "      <td>CHEMBL306988</td>\n",
       "      <td>=</td>\n",
       "      <td>nM</td>\n",
       "      <td>500000.0</td>\n",
       "      <td>CHEMBL203</td>\n",
       "      <td>Homo sapiens</td>\n",
       "      <td>IC50</td>\n",
       "    </tr>\n",
       "  </tbody>\n",
       "</table>\n",
       "</div>"
      ],
      "text/plain": [
       "   activity_id assay_chembl_id  \\\n",
       "0        32260    CHEMBL674637   \n",
       "1        32260    CHEMBL674637   \n",
       "2        32267    CHEMBL674637   \n",
       "3        32680    CHEMBL677833   \n",
       "4        32770    CHEMBL674643   \n",
       "\n",
       "                                   assay_description assay_type  \\\n",
       "0  Inhibitory activity towards tyrosine phosphory...          B   \n",
       "1  Inhibitory activity towards tyrosine phosphory...          B   \n",
       "2  Inhibitory activity towards tyrosine phosphory...          B   \n",
       "3  In vitro inhibition of Epidermal growth factor...          B   \n",
       "4  Inhibitory concentration of EGF dependent auto...          B   \n",
       "\n",
       "  molecule_chembl_id relation standard_units standard_value target_chembl_id  \\\n",
       "0        CHEMBL68920        =             nM           41.0        CHEMBL203   \n",
       "1        CHEMBL68920        =             nM           41.0        CHEMBL203   \n",
       "2        CHEMBL69960        =             nM          170.0        CHEMBL203   \n",
       "3       CHEMBL137635        =             nM         9300.0        CHEMBL203   \n",
       "4       CHEMBL306988        =             nM       500000.0        CHEMBL203   \n",
       "\n",
       "  target_organism  type  \n",
       "0    Homo sapiens  IC50  \n",
       "1    Homo sapiens  IC50  \n",
       "2    Homo sapiens  IC50  \n",
       "3    Homo sapiens  IC50  \n",
       "4    Homo sapiens  IC50  "
      ]
     },
     "execution_count": 14,
     "metadata": {},
     "output_type": "execute_result"
    }
   ],
   "source": [
    "bioactivities_df.drop([\"units\", \"value\"], axis=1, inplace=True)\n",
    "bioactivities_df.head()"
   ]
  },
  {
   "cell_type": "markdown",
   "metadata": {},
   "source": [
    "#### Freeze bioactivity data to ChEMBL 27\n",
    "\n",
    "This is a technical step: Usually, we would continue to work with the dataset that we just downloaded (latest dataset). \n",
    "\n",
    "However, here on the TeachOpenCADD platform, we prefer to freeze the dataset to a certain ChEMBL releases (i.e. [ChEMBL 27](http://doi.org/10.6019/CHEMBL.database.27)), \n",
    "so that this talktorial and other talktorials downstream in our CADD pipeline do not change in the future (helping us to maintain the talktorials)."
   ]
  },
  {
   "cell_type": "markdown",
   "metadata": {},
   "source": [
    "This cell will load bioactivity IDs in ChEMBL 27 release from file `data/chembl27_activities.npz.zip`. We have to uncompress it to a temporary file first, and then load it with `numpy`.\n",
    "\n",
    "If you are interested, you can check out how this file was generated in `data/all_chembl_activities.ipynb`."
   ]
  },
  {
   "cell_type": "code",
   "execution_count": 15,
   "metadata": {},
   "outputs": [
    {
     "name": "stdout",
     "output_type": "stream",
     "text": [
      "Number of bioactivity values in full ChEMBL 27 release: 16066124\n"
     ]
    }
   ],
   "source": [
    "with ZipFile(DATA / \"chembl27_activities.npz.zip\") as z, TemporaryDirectory() as tmpdir:\n",
    "    z.extract(\"chembl27_activities.npz\", tmpdir)\n",
    "    with np.load(Path(tmpdir) / \"chembl27_activities.npz\") as f:\n",
    "        bioactivity_ids_chembl_27 = set(f[\"activities\"])\n",
    "\n",
    "print(f\"Number of bioactivity values in full ChEMBL 27 release: {len(bioactivity_ids_chembl_27)}\")\n",
    "# NBVAL_CHECK_OUTPUT"
   ]
  },
  {
   "cell_type": "markdown",
   "metadata": {},
   "source": [
    "Keep only bioactivities with bioactivity IDs from the ChEMBL 27 release."
   ]
  },
  {
   "cell_type": "code",
   "execution_count": 16,
   "metadata": {},
   "outputs": [
    {
     "name": "stdout",
     "output_type": "stream",
     "text": [
      "Number of bioactivities queried for EGFR in this notebook: 8464\n",
      "Number of bioactivities after ChEMBL 27 intersection: 7638\n"
     ]
    }
   ],
   "source": [
    "print(f\"Number of bioactivities queried for EGFR in this notebook: {bioactivities_df.shape[0]}\")\n",
    "# Get the intersection between the current and the frozen ChEMBL version\n",
    "bioactivities_df = bioactivities_df[\n",
    "    bioactivities_df[\"activity_id\"].isin(bioactivity_ids_chembl_27)\n",
    "].copy()\n",
    "# NBVAL_CHECK_OUTPUT\n",
    "print(f\"Number of bioactivities after ChEMBL 27 intersection: {bioactivities_df.shape[0]}\")"
   ]
  },
  {
   "cell_type": "markdown",
   "metadata": {},
   "source": [
    "Note: If these numbers are the same, it means the latest ChEMBL release is still ChEMBL 27. \n",
    "\n",
    "You can check out the current [ChEMBL](https://chembl.gitbook.io/chembl-interface-documentation/downloads) release."
   ]
  },
  {
   "cell_type": "markdown",
   "metadata": {},
   "source": [
    "#### Preprocess and filter bioactivity data\n",
    "\n",
    "1. Convert `standard_value`'s datatype from `object` to `float`\n",
    "2. Delete entries with missing values\n",
    "3. Keep only entries with `standard_unit == nM`\n",
    "4. Delete duplicate molecules\n",
    "5. Reset `DataFrame` index\n",
    "6. Rename columns"
   ]
  },
  {
   "cell_type": "markdown",
   "metadata": {},
   "source": [
    "**1. Convert datatype of \"standard_value\" from \"object\" to \"float\"**\n",
    "\n",
    "The field `standard_value` holds standardized (here IC50) values. In order to make these values usable in calculations later on, convert values to floats."
   ]
  },
  {
   "cell_type": "code",
   "execution_count": 17,
   "metadata": {},
   "outputs": [
    {
     "data": {
      "text/plain": [
       "activity_id            int64\n",
       "assay_chembl_id       object\n",
       "assay_description     object\n",
       "assay_type            object\n",
       "molecule_chembl_id    object\n",
       "relation              object\n",
       "standard_units        object\n",
       "standard_value        object\n",
       "target_chembl_id      object\n",
       "target_organism       object\n",
       "type                  object\n",
       "dtype: object"
      ]
     },
     "execution_count": 17,
     "metadata": {},
     "output_type": "execute_result"
    }
   ],
   "source": [
    "bioactivities_df.dtypes"
   ]
  },
  {
   "cell_type": "code",
   "execution_count": 18,
   "metadata": {},
   "outputs": [
    {
     "data": {
      "text/plain": [
       "activity_id             int64\n",
       "assay_chembl_id        object\n",
       "assay_description      object\n",
       "assay_type             object\n",
       "molecule_chembl_id     object\n",
       "relation               object\n",
       "standard_units         object\n",
       "standard_value        float64\n",
       "target_chembl_id       object\n",
       "target_organism        object\n",
       "type                   object\n",
       "dtype: object"
      ]
     },
     "execution_count": 18,
     "metadata": {},
     "output_type": "execute_result"
    }
   ],
   "source": [
    "bioactivities_df = bioactivities_df.astype({\"standard_value\": \"float64\"})\n",
    "bioactivities_df.dtypes"
   ]
  },
  {
   "cell_type": "markdown",
   "metadata": {},
   "source": [
    "**2. Delete entries with missing values**\n",
    "\n",
    "Use the parameter `inplace=True` to drop values in the current `DataFrame` directly."
   ]
  },
  {
   "cell_type": "code",
   "execution_count": 19,
   "metadata": {},
   "outputs": [
    {
     "name": "stdout",
     "output_type": "stream",
     "text": [
      "DataFrame shape: (7637, 11)\n"
     ]
    }
   ],
   "source": [
    "bioactivities_df.dropna(axis=0, how=\"any\", inplace=True)\n",
    "print(f\"DataFrame shape: {bioactivities_df.shape}\")"
   ]
  },
  {
   "cell_type": "markdown",
   "metadata": {},
   "source": [
    "**3. Keep only entries with \"standard_unit == nM\"** \n",
    "\n",
    "We only want to keep bioactivity entries in `nM`, thus we remove all entries with other units."
   ]
  },
  {
   "cell_type": "code",
   "execution_count": 20,
   "metadata": {},
   "outputs": [
    {
     "name": "stdout",
     "output_type": "stream",
     "text": [
      "Units in downloaded data: ['nM' 'ug.mL-1' '/uM']\n",
      "Number of non-nM entries:    64\n"
     ]
    }
   ],
   "source": [
    "print(f\"Units in downloaded data: {bioactivities_df['standard_units'].unique()}\")\n",
    "print(\n",
    "    f\"Number of non-nM entries:\\\n",
    "    {bioactivities_df[bioactivities_df['standard_units'] != 'nM'].shape[0]}\"\n",
    ")"
   ]
  },
  {
   "cell_type": "code",
   "execution_count": 21,
   "metadata": {},
   "outputs": [
    {
     "name": "stdout",
     "output_type": "stream",
     "text": [
      "Units after filtering: ['nM']\n"
     ]
    }
   ],
   "source": [
    "bioactivities_df = bioactivities_df[bioactivities_df[\"standard_units\"] == \"nM\"]\n",
    "print(f\"Units after filtering: {bioactivities_df['standard_units'].unique()}\")"
   ]
  },
  {
   "cell_type": "code",
   "execution_count": 22,
   "metadata": {},
   "outputs": [
    {
     "name": "stdout",
     "output_type": "stream",
     "text": [
      "DataFrame shape: (7573, 11)\n"
     ]
    }
   ],
   "source": [
    "print(f\"DataFrame shape: {bioactivities_df.shape}\")"
   ]
  },
  {
   "cell_type": "markdown",
   "metadata": {},
   "source": [
    "**4. Delete duplicate molecules**\n",
    "\n",
    "Sometimes the same molecule (`molecule_chembl_id`) has been tested more than once, in this case, we only keep the first one.\n",
    "\n",
    "Note other choices could be to keep the one with the best value or a mean value of all assay results for the respective compound."
   ]
  },
  {
   "cell_type": "code",
   "execution_count": 23,
   "metadata": {},
   "outputs": [
    {
     "name": "stdout",
     "output_type": "stream",
     "text": [
      "DataFrame shape: (5575, 11)\n"
     ]
    }
   ],
   "source": [
    "bioactivities_df.drop_duplicates(\"molecule_chembl_id\", keep=\"first\", inplace=True)\n",
    "print(f\"DataFrame shape: {bioactivities_df.shape}\")"
   ]
  },
  {
   "cell_type": "markdown",
   "metadata": {},
   "source": [
    "**5. Reset \"DataFrame\" index**\n",
    "\n",
    "Since we deleted some rows, but we want to iterate over the index later, we reset the index to be continuous."
   ]
  },
  {
   "cell_type": "code",
   "execution_count": 24,
   "metadata": {},
   "outputs": [
    {
     "data": {
      "text/html": [
       "<div>\n",
       "<style scoped>\n",
       "    .dataframe tbody tr th:only-of-type {\n",
       "        vertical-align: middle;\n",
       "    }\n",
       "\n",
       "    .dataframe tbody tr th {\n",
       "        vertical-align: top;\n",
       "    }\n",
       "\n",
       "    .dataframe thead th {\n",
       "        text-align: right;\n",
       "    }\n",
       "</style>\n",
       "<table border=\"1\" class=\"dataframe\">\n",
       "  <thead>\n",
       "    <tr style=\"text-align: right;\">\n",
       "      <th></th>\n",
       "      <th>activity_id</th>\n",
       "      <th>assay_chembl_id</th>\n",
       "      <th>assay_description</th>\n",
       "      <th>assay_type</th>\n",
       "      <th>molecule_chembl_id</th>\n",
       "      <th>relation</th>\n",
       "      <th>standard_units</th>\n",
       "      <th>standard_value</th>\n",
       "      <th>target_chembl_id</th>\n",
       "      <th>target_organism</th>\n",
       "      <th>type</th>\n",
       "    </tr>\n",
       "  </thead>\n",
       "  <tbody>\n",
       "    <tr>\n",
       "      <th>0</th>\n",
       "      <td>32260</td>\n",
       "      <td>CHEMBL674637</td>\n",
       "      <td>Inhibitory activity towards tyrosine phosphory...</td>\n",
       "      <td>B</td>\n",
       "      <td>CHEMBL68920</td>\n",
       "      <td>=</td>\n",
       "      <td>nM</td>\n",
       "      <td>41.0</td>\n",
       "      <td>CHEMBL203</td>\n",
       "      <td>Homo sapiens</td>\n",
       "      <td>IC50</td>\n",
       "    </tr>\n",
       "    <tr>\n",
       "      <th>1</th>\n",
       "      <td>32267</td>\n",
       "      <td>CHEMBL674637</td>\n",
       "      <td>Inhibitory activity towards tyrosine phosphory...</td>\n",
       "      <td>B</td>\n",
       "      <td>CHEMBL69960</td>\n",
       "      <td>=</td>\n",
       "      <td>nM</td>\n",
       "      <td>170.0</td>\n",
       "      <td>CHEMBL203</td>\n",
       "      <td>Homo sapiens</td>\n",
       "      <td>IC50</td>\n",
       "    </tr>\n",
       "    <tr>\n",
       "      <th>2</th>\n",
       "      <td>32680</td>\n",
       "      <td>CHEMBL677833</td>\n",
       "      <td>In vitro inhibition of Epidermal growth factor...</td>\n",
       "      <td>B</td>\n",
       "      <td>CHEMBL137635</td>\n",
       "      <td>=</td>\n",
       "      <td>nM</td>\n",
       "      <td>9300.0</td>\n",
       "      <td>CHEMBL203</td>\n",
       "      <td>Homo sapiens</td>\n",
       "      <td>IC50</td>\n",
       "    </tr>\n",
       "    <tr>\n",
       "      <th>3</th>\n",
       "      <td>32770</td>\n",
       "      <td>CHEMBL674643</td>\n",
       "      <td>Inhibitory concentration of EGF dependent auto...</td>\n",
       "      <td>B</td>\n",
       "      <td>CHEMBL306988</td>\n",
       "      <td>=</td>\n",
       "      <td>nM</td>\n",
       "      <td>500000.0</td>\n",
       "      <td>CHEMBL203</td>\n",
       "      <td>Homo sapiens</td>\n",
       "      <td>IC50</td>\n",
       "    </tr>\n",
       "    <tr>\n",
       "      <th>4</th>\n",
       "      <td>32772</td>\n",
       "      <td>CHEMBL674643</td>\n",
       "      <td>Inhibitory concentration of EGF dependent auto...</td>\n",
       "      <td>B</td>\n",
       "      <td>CHEMBL66879</td>\n",
       "      <td>=</td>\n",
       "      <td>nM</td>\n",
       "      <td>3000000.0</td>\n",
       "      <td>CHEMBL203</td>\n",
       "      <td>Homo sapiens</td>\n",
       "      <td>IC50</td>\n",
       "    </tr>\n",
       "  </tbody>\n",
       "</table>\n",
       "</div>"
      ],
      "text/plain": [
       "   activity_id assay_chembl_id  \\\n",
       "0        32260    CHEMBL674637   \n",
       "1        32267    CHEMBL674637   \n",
       "2        32680    CHEMBL677833   \n",
       "3        32770    CHEMBL674643   \n",
       "4        32772    CHEMBL674643   \n",
       "\n",
       "                                   assay_description assay_type  \\\n",
       "0  Inhibitory activity towards tyrosine phosphory...          B   \n",
       "1  Inhibitory activity towards tyrosine phosphory...          B   \n",
       "2  In vitro inhibition of Epidermal growth factor...          B   \n",
       "3  Inhibitory concentration of EGF dependent auto...          B   \n",
       "4  Inhibitory concentration of EGF dependent auto...          B   \n",
       "\n",
       "  molecule_chembl_id relation standard_units  standard_value target_chembl_id  \\\n",
       "0        CHEMBL68920        =             nM            41.0        CHEMBL203   \n",
       "1        CHEMBL69960        =             nM           170.0        CHEMBL203   \n",
       "2       CHEMBL137635        =             nM          9300.0        CHEMBL203   \n",
       "3       CHEMBL306988        =             nM        500000.0        CHEMBL203   \n",
       "4        CHEMBL66879        =             nM       3000000.0        CHEMBL203   \n",
       "\n",
       "  target_organism  type  \n",
       "0    Homo sapiens  IC50  \n",
       "1    Homo sapiens  IC50  \n",
       "2    Homo sapiens  IC50  \n",
       "3    Homo sapiens  IC50  \n",
       "4    Homo sapiens  IC50  "
      ]
     },
     "execution_count": 24,
     "metadata": {},
     "output_type": "execute_result"
    }
   ],
   "source": [
    "bioactivities_df.reset_index(drop=True, inplace=True)\n",
    "bioactivities_df.head()"
   ]
  },
  {
   "cell_type": "markdown",
   "metadata": {},
   "source": [
    "**6. Rename columns**"
   ]
  },
  {
   "cell_type": "code",
   "execution_count": 25,
   "metadata": {},
   "outputs": [
    {
     "data": {
      "text/html": [
       "<div>\n",
       "<style scoped>\n",
       "    .dataframe tbody tr th:only-of-type {\n",
       "        vertical-align: middle;\n",
       "    }\n",
       "\n",
       "    .dataframe tbody tr th {\n",
       "        vertical-align: top;\n",
       "    }\n",
       "\n",
       "    .dataframe thead th {\n",
       "        text-align: right;\n",
       "    }\n",
       "</style>\n",
       "<table border=\"1\" class=\"dataframe\">\n",
       "  <thead>\n",
       "    <tr style=\"text-align: right;\">\n",
       "      <th></th>\n",
       "      <th>activity_id</th>\n",
       "      <th>assay_chembl_id</th>\n",
       "      <th>assay_description</th>\n",
       "      <th>assay_type</th>\n",
       "      <th>molecule_chembl_id</th>\n",
       "      <th>relation</th>\n",
       "      <th>units</th>\n",
       "      <th>IC50</th>\n",
       "      <th>target_chembl_id</th>\n",
       "      <th>target_organism</th>\n",
       "      <th>type</th>\n",
       "    </tr>\n",
       "  </thead>\n",
       "  <tbody>\n",
       "    <tr>\n",
       "      <th>0</th>\n",
       "      <td>32260</td>\n",
       "      <td>CHEMBL674637</td>\n",
       "      <td>Inhibitory activity towards tyrosine phosphory...</td>\n",
       "      <td>B</td>\n",
       "      <td>CHEMBL68920</td>\n",
       "      <td>=</td>\n",
       "      <td>nM</td>\n",
       "      <td>41.0</td>\n",
       "      <td>CHEMBL203</td>\n",
       "      <td>Homo sapiens</td>\n",
       "      <td>IC50</td>\n",
       "    </tr>\n",
       "    <tr>\n",
       "      <th>1</th>\n",
       "      <td>32267</td>\n",
       "      <td>CHEMBL674637</td>\n",
       "      <td>Inhibitory activity towards tyrosine phosphory...</td>\n",
       "      <td>B</td>\n",
       "      <td>CHEMBL69960</td>\n",
       "      <td>=</td>\n",
       "      <td>nM</td>\n",
       "      <td>170.0</td>\n",
       "      <td>CHEMBL203</td>\n",
       "      <td>Homo sapiens</td>\n",
       "      <td>IC50</td>\n",
       "    </tr>\n",
       "    <tr>\n",
       "      <th>2</th>\n",
       "      <td>32680</td>\n",
       "      <td>CHEMBL677833</td>\n",
       "      <td>In vitro inhibition of Epidermal growth factor...</td>\n",
       "      <td>B</td>\n",
       "      <td>CHEMBL137635</td>\n",
       "      <td>=</td>\n",
       "      <td>nM</td>\n",
       "      <td>9300.0</td>\n",
       "      <td>CHEMBL203</td>\n",
       "      <td>Homo sapiens</td>\n",
       "      <td>IC50</td>\n",
       "    </tr>\n",
       "    <tr>\n",
       "      <th>3</th>\n",
       "      <td>32770</td>\n",
       "      <td>CHEMBL674643</td>\n",
       "      <td>Inhibitory concentration of EGF dependent auto...</td>\n",
       "      <td>B</td>\n",
       "      <td>CHEMBL306988</td>\n",
       "      <td>=</td>\n",
       "      <td>nM</td>\n",
       "      <td>500000.0</td>\n",
       "      <td>CHEMBL203</td>\n",
       "      <td>Homo sapiens</td>\n",
       "      <td>IC50</td>\n",
       "    </tr>\n",
       "    <tr>\n",
       "      <th>4</th>\n",
       "      <td>32772</td>\n",
       "      <td>CHEMBL674643</td>\n",
       "      <td>Inhibitory concentration of EGF dependent auto...</td>\n",
       "      <td>B</td>\n",
       "      <td>CHEMBL66879</td>\n",
       "      <td>=</td>\n",
       "      <td>nM</td>\n",
       "      <td>3000000.0</td>\n",
       "      <td>CHEMBL203</td>\n",
       "      <td>Homo sapiens</td>\n",
       "      <td>IC50</td>\n",
       "    </tr>\n",
       "  </tbody>\n",
       "</table>\n",
       "</div>"
      ],
      "text/plain": [
       "   activity_id assay_chembl_id  \\\n",
       "0        32260    CHEMBL674637   \n",
       "1        32267    CHEMBL674637   \n",
       "2        32680    CHEMBL677833   \n",
       "3        32770    CHEMBL674643   \n",
       "4        32772    CHEMBL674643   \n",
       "\n",
       "                                   assay_description assay_type  \\\n",
       "0  Inhibitory activity towards tyrosine phosphory...          B   \n",
       "1  Inhibitory activity towards tyrosine phosphory...          B   \n",
       "2  In vitro inhibition of Epidermal growth factor...          B   \n",
       "3  Inhibitory concentration of EGF dependent auto...          B   \n",
       "4  Inhibitory concentration of EGF dependent auto...          B   \n",
       "\n",
       "  molecule_chembl_id relation units       IC50 target_chembl_id  \\\n",
       "0        CHEMBL68920        =    nM       41.0        CHEMBL203   \n",
       "1        CHEMBL69960        =    nM      170.0        CHEMBL203   \n",
       "2       CHEMBL137635        =    nM     9300.0        CHEMBL203   \n",
       "3       CHEMBL306988        =    nM   500000.0        CHEMBL203   \n",
       "4        CHEMBL66879        =    nM  3000000.0        CHEMBL203   \n",
       "\n",
       "  target_organism  type  \n",
       "0    Homo sapiens  IC50  \n",
       "1    Homo sapiens  IC50  \n",
       "2    Homo sapiens  IC50  \n",
       "3    Homo sapiens  IC50  \n",
       "4    Homo sapiens  IC50  "
      ]
     },
     "execution_count": 25,
     "metadata": {},
     "output_type": "execute_result"
    }
   ],
   "source": [
    "bioactivities_df.rename(\n",
    "    columns={\"standard_value\": \"IC50\", \"standard_units\": \"units\"}, inplace=True\n",
    ")\n",
    "bioactivities_df.head()"
   ]
  },
  {
   "cell_type": "code",
   "execution_count": 26,
   "metadata": {},
   "outputs": [
    {
     "name": "stdout",
     "output_type": "stream",
     "text": [
      "DataFrame shape: (5575, 11)\n"
     ]
    }
   ],
   "source": [
    "print(f\"DataFrame shape: {bioactivities_df.shape}\")\n",
    "# NBVAL_CHECK_OUTPUT"
   ]
  },
  {
   "cell_type": "markdown",
   "metadata": {},
   "source": [
    "We now have a set of **5575** molecule ids with respective IC50 values for our target kinase."
   ]
  },
  {
   "cell_type": "markdown",
   "metadata": {},
   "source": [
    "### Get compound data\n",
    "\n",
    "We have a `DataFrame` containing all molecules tested against EGFR (with the respective measured bioactivity). \n",
    "\n",
    "Now, we want to get the molecular structures of the molecules that are linked to respective bioactivity ChEMBL IDs. "
   ]
  },
  {
   "cell_type": "markdown",
   "metadata": {},
   "source": [
    "#### Fetch compound data from ChEMBL\n",
    "\n",
    "Let's have a look at the compounds from ChEMBL which we have defined bioactivity data for: We fetch compound ChEMBL IDs and structures for the compounds linked to our filtered bioactivity data."
   ]
  },
  {
   "cell_type": "code",
   "execution_count": 27,
   "metadata": {},
   "outputs": [],
   "source": [
    "compounds_provider = compounds_api.filter(\n",
    "    molecule_chembl_id__in=list(bioactivities_df[\"molecule_chembl_id\"])\n",
    ").only(\"molecule_chembl_id\", \"molecule_structures\")"
   ]
  },
  {
   "cell_type": "markdown",
   "metadata": {},
   "source": [
    "#### Download compound data from ChEMBL\n",
    "\n",
    "Again, we wanto to export the `QuerySet` object into a `pandas.DataFrame`. Given the data volumen, **this can take some time.** For that reason, we will first obtain the list of records through `tqdm`, so we get a nice progress bar and some ETAs. We can then pass the list of compounds to the DataFrame."
   ]
  },
  {
   "cell_type": "code",
   "execution_count": 28,
   "metadata": {},
   "outputs": [
    {
     "data": {
      "application/vnd.jupyter.widget-view+json": {
       "model_id": "6ffdbb1f407545908c235770ea6c063e",
       "version_major": 2,
       "version_minor": 0
      },
      "text/plain": [
       "  0%|          | 0/5575 [00:00<?, ?it/s]"
      ]
     },
     "metadata": {},
     "output_type": "display_data"
    }
   ],
   "source": [
    "compounds = list(tqdm(compounds_provider))"
   ]
  },
  {
   "cell_type": "code",
   "execution_count": 29,
   "metadata": {},
   "outputs": [
    {
     "name": "stdout",
     "output_type": "stream",
     "text": [
      "DataFrame shape: (5575, 2)\n"
     ]
    }
   ],
   "source": [
    "compounds_df = pd.DataFrame.from_records(\n",
    "    compounds,\n",
    ")\n",
    "print(f\"DataFrame shape: {compounds_df.shape}\")"
   ]
  },
  {
   "cell_type": "code",
   "execution_count": 30,
   "metadata": {},
   "outputs": [
    {
     "data": {
      "text/html": [
       "<div>\n",
       "<style scoped>\n",
       "    .dataframe tbody tr th:only-of-type {\n",
       "        vertical-align: middle;\n",
       "    }\n",
       "\n",
       "    .dataframe tbody tr th {\n",
       "        vertical-align: top;\n",
       "    }\n",
       "\n",
       "    .dataframe thead th {\n",
       "        text-align: right;\n",
       "    }\n",
       "</style>\n",
       "<table border=\"1\" class=\"dataframe\">\n",
       "  <thead>\n",
       "    <tr style=\"text-align: right;\">\n",
       "      <th></th>\n",
       "      <th>molecule_chembl_id</th>\n",
       "      <th>molecule_structures</th>\n",
       "    </tr>\n",
       "  </thead>\n",
       "  <tbody>\n",
       "    <tr>\n",
       "      <th>0</th>\n",
       "      <td>CHEMBL6246</td>\n",
       "      <td>{'canonical_smiles': 'O=c1oc2c(O)c(O)cc3c(=O)o...</td>\n",
       "    </tr>\n",
       "    <tr>\n",
       "      <th>1</th>\n",
       "      <td>CHEMBL10</td>\n",
       "      <td>{'canonical_smiles': 'C[S+]([O-])c1ccc(-c2nc(-...</td>\n",
       "    </tr>\n",
       "    <tr>\n",
       "      <th>2</th>\n",
       "      <td>CHEMBL6976</td>\n",
       "      <td>{'canonical_smiles': 'COc1cc2c(cc1OC)Nc1ncn(C)...</td>\n",
       "    </tr>\n",
       "    <tr>\n",
       "      <th>3</th>\n",
       "      <td>CHEMBL7002</td>\n",
       "      <td>{'canonical_smiles': 'CC1(COc2ccc(CC3SC(=O)NC3...</td>\n",
       "    </tr>\n",
       "    <tr>\n",
       "      <th>4</th>\n",
       "      <td>CHEMBL414013</td>\n",
       "      <td>{'canonical_smiles': 'COc1cc2c(cc1OC)Nc1ncnc(O...</td>\n",
       "    </tr>\n",
       "  </tbody>\n",
       "</table>\n",
       "</div>"
      ],
      "text/plain": [
       "  molecule_chembl_id                                molecule_structures\n",
       "0         CHEMBL6246  {'canonical_smiles': 'O=c1oc2c(O)c(O)cc3c(=O)o...\n",
       "1           CHEMBL10  {'canonical_smiles': 'C[S+]([O-])c1ccc(-c2nc(-...\n",
       "2         CHEMBL6976  {'canonical_smiles': 'COc1cc2c(cc1OC)Nc1ncn(C)...\n",
       "3         CHEMBL7002  {'canonical_smiles': 'CC1(COc2ccc(CC3SC(=O)NC3...\n",
       "4       CHEMBL414013  {'canonical_smiles': 'COc1cc2c(cc1OC)Nc1ncnc(O..."
      ]
     },
     "execution_count": 30,
     "metadata": {},
     "output_type": "execute_result"
    }
   ],
   "source": [
    "compounds_df.head()"
   ]
  },
  {
   "cell_type": "markdown",
   "metadata": {},
   "source": [
    "#### Preprocess and filter compound data\n",
    "\n",
    "1. Remove entries with missing entries\n",
    "2. Delete duplicate molecules (by molecule_chembl_id)\n",
    "3. Get molecules with canonical SMILES"
   ]
  },
  {
   "cell_type": "markdown",
   "metadata": {},
   "source": [
    "**1. Remove entries with missing molecule structure entry**"
   ]
  },
  {
   "cell_type": "code",
   "execution_count": 31,
   "metadata": {},
   "outputs": [
    {
     "name": "stdout",
     "output_type": "stream",
     "text": [
      "DataFrame shape: (5568, 2)\n"
     ]
    }
   ],
   "source": [
    "compounds_df.dropna(axis=0, how=\"any\", inplace=True)\n",
    "print(f\"DataFrame shape: {compounds_df.shape}\")"
   ]
  },
  {
   "cell_type": "markdown",
   "metadata": {},
   "source": [
    "**2. Delete duplicate molecules**"
   ]
  },
  {
   "cell_type": "code",
   "execution_count": 32,
   "metadata": {},
   "outputs": [
    {
     "name": "stdout",
     "output_type": "stream",
     "text": [
      "DataFrame shape: (5568, 2)\n"
     ]
    }
   ],
   "source": [
    "compounds_df.drop_duplicates(\"molecule_chembl_id\", keep=\"first\", inplace=True)\n",
    "print(f\"DataFrame shape: {compounds_df.shape}\")"
   ]
  },
  {
   "cell_type": "markdown",
   "metadata": {},
   "source": [
    "**3. Get molecules with canonical SMILES**\n",
    "\n",
    "So far, we have multiple different molecular structure representations. We only want to keep the canonical SMILES."
   ]
  },
  {
   "cell_type": "code",
   "execution_count": 33,
   "metadata": {},
   "outputs": [
    {
     "data": {
      "text/plain": [
       "dict_keys(['canonical_smiles', 'molfile', 'standard_inchi', 'standard_inchi_key'])"
      ]
     },
     "execution_count": 33,
     "metadata": {},
     "output_type": "execute_result"
    }
   ],
   "source": [
    "compounds_df.iloc[0].molecule_structures.keys()"
   ]
  },
  {
   "cell_type": "code",
   "execution_count": 34,
   "metadata": {},
   "outputs": [
    {
     "name": "stdout",
     "output_type": "stream",
     "text": [
      "DataFrame shape: (5568, 2)\n"
     ]
    }
   ],
   "source": [
    "canonical_smiles = []\n",
    "\n",
    "for i, compounds in compounds_df.iterrows():\n",
    "    try:\n",
    "        canonical_smiles.append(compounds[\"molecule_structures\"][\"canonical_smiles\"])\n",
    "    except KeyError:\n",
    "        canonical_smiles.append(None)\n",
    "\n",
    "compounds_df[\"smiles\"] = canonical_smiles\n",
    "compounds_df.drop(\"molecule_structures\", axis=1, inplace=True)\n",
    "print(f\"DataFrame shape: {compounds_df.shape}\")"
   ]
  },
  {
   "cell_type": "markdown",
   "metadata": {},
   "source": [
    "Sanity check: Remove all molecules without a canonical SMILES string."
   ]
  },
  {
   "cell_type": "code",
   "execution_count": 35,
   "metadata": {},
   "outputs": [
    {
     "name": "stdout",
     "output_type": "stream",
     "text": [
      "DataFrame shape: (5568, 2)\n"
     ]
    }
   ],
   "source": [
    "compounds_df.dropna(axis=0, how=\"any\", inplace=True)\n",
    "print(f\"DataFrame shape: {compounds_df.shape}\")\n",
    "# NBVAL_CHECK_OUTPUT"
   ]
  },
  {
   "cell_type": "markdown",
   "metadata": {},
   "source": [
    "We now have a set of **5568** molecule ids with respective IC50 values for our target kinase."
   ]
  },
  {
   "cell_type": "markdown",
   "metadata": {},
   "source": [
    "### Output (bioactivity-compound) data\n",
    "**Summary of compound and bioactivity data**"
   ]
  },
  {
   "cell_type": "code",
   "execution_count": 36,
   "metadata": {},
   "outputs": [
    {
     "name": "stdout",
     "output_type": "stream",
     "text": [
      "Bioactivities filtered: 5575\n"
     ]
    },
    {
     "data": {
      "text/plain": [
       "Index(['activity_id', 'assay_chembl_id', 'assay_description', 'assay_type',\n",
       "       'molecule_chembl_id', 'relation', 'units', 'IC50', 'target_chembl_id',\n",
       "       'target_organism', 'type'],\n",
       "      dtype='object')"
      ]
     },
     "execution_count": 36,
     "metadata": {},
     "output_type": "execute_result"
    }
   ],
   "source": [
    "print(f\"Bioactivities filtered: {bioactivities_df.shape[0]}\")\n",
    "bioactivities_df.columns"
   ]
  },
  {
   "cell_type": "code",
   "execution_count": 37,
   "metadata": {},
   "outputs": [
    {
     "name": "stdout",
     "output_type": "stream",
     "text": [
      "Compounds filtered: 5568\n"
     ]
    },
    {
     "data": {
      "text/plain": [
       "Index(['molecule_chembl_id', 'smiles'], dtype='object')"
      ]
     },
     "execution_count": 37,
     "metadata": {},
     "output_type": "execute_result"
    }
   ],
   "source": [
    "print(f\"Compounds filtered: {compounds_df.shape[0]}\")\n",
    "compounds_df.columns"
   ]
  },
  {
   "cell_type": "markdown",
   "metadata": {},
   "source": [
    "#### Merge both datasets\n",
    "\n",
    "Merge values of interest from `bioactivities_df` and `compounds_df` in an `output_df` based on the compounds' ChEMBL IDs (`molecule_chembl_id`), keeping the following columns:\n",
    "\n",
    "* ChEMBL IDs: `molecule_chembl_id`\n",
    "* SMILES: `smiles`\n",
    "* units: `units`\n",
    "* IC50: `IC50`"
   ]
  },
  {
   "cell_type": "code",
   "execution_count": 38,
   "metadata": {},
   "outputs": [
    {
     "name": "stdout",
     "output_type": "stream",
     "text": [
      "Dataset with 5568 entries.\n"
     ]
    }
   ],
   "source": [
    "# Merge DataFrames\n",
    "output_df = pd.merge(\n",
    "    bioactivities_df[[\"molecule_chembl_id\", \"IC50\", \"units\"]],\n",
    "    compounds_df,\n",
    "    on=\"molecule_chembl_id\",\n",
    ")\n",
    "\n",
    "# Reset row indices\n",
    "output_df.reset_index(drop=True, inplace=True)\n",
    "\n",
    "print(f\"Dataset with {output_df.shape[0]} entries.\")\n",
    "# NBVAL_CHECK_OUTPUT"
   ]
  },
  {
   "cell_type": "markdown",
   "metadata": {},
   "source": [
    "Sanity check: The merged bioactivities/compound data set contains **5568** entries."
   ]
  },
  {
   "cell_type": "code",
   "execution_count": 39,
   "metadata": {},
   "outputs": [
    {
     "data": {
      "text/plain": [
       "molecule_chembl_id     object\n",
       "IC50                  float64\n",
       "units                  object\n",
       "smiles                 object\n",
       "dtype: object"
      ]
     },
     "execution_count": 39,
     "metadata": {},
     "output_type": "execute_result"
    }
   ],
   "source": [
    "output_df.dtypes"
   ]
  },
  {
   "cell_type": "code",
   "execution_count": 40,
   "metadata": {},
   "outputs": [
    {
     "data": {
      "text/html": [
       "<div>\n",
       "<style scoped>\n",
       "    .dataframe tbody tr th:only-of-type {\n",
       "        vertical-align: middle;\n",
       "    }\n",
       "\n",
       "    .dataframe tbody tr th {\n",
       "        vertical-align: top;\n",
       "    }\n",
       "\n",
       "    .dataframe thead th {\n",
       "        text-align: right;\n",
       "    }\n",
       "</style>\n",
       "<table border=\"1\" class=\"dataframe\">\n",
       "  <thead>\n",
       "    <tr style=\"text-align: right;\">\n",
       "      <th></th>\n",
       "      <th>molecule_chembl_id</th>\n",
       "      <th>IC50</th>\n",
       "      <th>units</th>\n",
       "      <th>smiles</th>\n",
       "    </tr>\n",
       "  </thead>\n",
       "  <tbody>\n",
       "    <tr>\n",
       "      <th>0</th>\n",
       "      <td>CHEMBL68920</td>\n",
       "      <td>41.0</td>\n",
       "      <td>nM</td>\n",
       "      <td>Cc1cc(C)c(/C=C2\\C(=O)Nc3ncnc(Nc4ccc(F)c(Cl)c4)...</td>\n",
       "    </tr>\n",
       "    <tr>\n",
       "      <th>1</th>\n",
       "      <td>CHEMBL69960</td>\n",
       "      <td>170.0</td>\n",
       "      <td>nM</td>\n",
       "      <td>Cc1cc(C(=O)N2CCOCC2)[nH]c1/C=C1\\C(=O)Nc2ncnc(N...</td>\n",
       "    </tr>\n",
       "    <tr>\n",
       "      <th>2</th>\n",
       "      <td>CHEMBL137635</td>\n",
       "      <td>9300.0</td>\n",
       "      <td>nM</td>\n",
       "      <td>CN(c1ccccc1)c1ncnc2ccc(N/N=N/Cc3ccccn3)cc12</td>\n",
       "    </tr>\n",
       "    <tr>\n",
       "      <th>3</th>\n",
       "      <td>CHEMBL306988</td>\n",
       "      <td>500000.0</td>\n",
       "      <td>nM</td>\n",
       "      <td>CC(=C(C#N)C#N)c1ccc(NC(=O)CCC(=O)O)cc1</td>\n",
       "    </tr>\n",
       "    <tr>\n",
       "      <th>4</th>\n",
       "      <td>CHEMBL66879</td>\n",
       "      <td>3000000.0</td>\n",
       "      <td>nM</td>\n",
       "      <td>O=C(O)/C=C/c1ccc(O)cc1</td>\n",
       "    </tr>\n",
       "    <tr>\n",
       "      <th>5</th>\n",
       "      <td>CHEMBL77085</td>\n",
       "      <td>96000.0</td>\n",
       "      <td>nM</td>\n",
       "      <td>N#CC(C#N)=Cc1cc(O)ccc1[N+](=O)[O-]</td>\n",
       "    </tr>\n",
       "    <tr>\n",
       "      <th>6</th>\n",
       "      <td>CHEMBL443268</td>\n",
       "      <td>5310.0</td>\n",
       "      <td>nM</td>\n",
       "      <td>Cc1cc(C(=O)NCCN2CCOCC2)[nH]c1/C=C1\\C(=O)N(C)c2...</td>\n",
       "    </tr>\n",
       "    <tr>\n",
       "      <th>7</th>\n",
       "      <td>CHEMBL76979</td>\n",
       "      <td>264000.0</td>\n",
       "      <td>nM</td>\n",
       "      <td>COc1cc(/C=C(\\C#N)C(=O)O)cc(OC)c1O</td>\n",
       "    </tr>\n",
       "    <tr>\n",
       "      <th>8</th>\n",
       "      <td>CHEMBL76589</td>\n",
       "      <td>125.0</td>\n",
       "      <td>nM</td>\n",
       "      <td>N#CC(C#N)=C(N)/C(C#N)=C/c1ccc(O)cc1</td>\n",
       "    </tr>\n",
       "    <tr>\n",
       "      <th>9</th>\n",
       "      <td>CHEMBL76904</td>\n",
       "      <td>35000.0</td>\n",
       "      <td>nM</td>\n",
       "      <td>N#CC(C#N)=Cc1ccc(O)c(O)c1</td>\n",
       "    </tr>\n",
       "  </tbody>\n",
       "</table>\n",
       "</div>"
      ],
      "text/plain": [
       "  molecule_chembl_id       IC50 units  \\\n",
       "0        CHEMBL68920       41.0    nM   \n",
       "1        CHEMBL69960      170.0    nM   \n",
       "2       CHEMBL137635     9300.0    nM   \n",
       "3       CHEMBL306988   500000.0    nM   \n",
       "4        CHEMBL66879  3000000.0    nM   \n",
       "5        CHEMBL77085    96000.0    nM   \n",
       "6       CHEMBL443268     5310.0    nM   \n",
       "7        CHEMBL76979   264000.0    nM   \n",
       "8        CHEMBL76589      125.0    nM   \n",
       "9        CHEMBL76904    35000.0    nM   \n",
       "\n",
       "                                              smiles  \n",
       "0  Cc1cc(C)c(/C=C2\\C(=O)Nc3ncnc(Nc4ccc(F)c(Cl)c4)...  \n",
       "1  Cc1cc(C(=O)N2CCOCC2)[nH]c1/C=C1\\C(=O)Nc2ncnc(N...  \n",
       "2        CN(c1ccccc1)c1ncnc2ccc(N/N=N/Cc3ccccn3)cc12  \n",
       "3             CC(=C(C#N)C#N)c1ccc(NC(=O)CCC(=O)O)cc1  \n",
       "4                             O=C(O)/C=C/c1ccc(O)cc1  \n",
       "5                 N#CC(C#N)=Cc1cc(O)ccc1[N+](=O)[O-]  \n",
       "6  Cc1cc(C(=O)NCCN2CCOCC2)[nH]c1/C=C1\\C(=O)N(C)c2...  \n",
       "7                  COc1cc(/C=C(\\C#N)C(=O)O)cc(OC)c1O  \n",
       "8                N#CC(C#N)=C(N)/C(C#N)=C/c1ccc(O)cc1  \n",
       "9                          N#CC(C#N)=Cc1ccc(O)c(O)c1  "
      ]
     },
     "execution_count": 40,
     "metadata": {},
     "output_type": "execute_result"
    }
   ],
   "source": [
    "output_df.head(10)"
   ]
  },
  {
   "cell_type": "markdown",
   "metadata": {},
   "source": [
    "#### Add pIC50 values"
   ]
  },
  {
   "cell_type": "markdown",
   "metadata": {},
   "source": [
    "As you can see the low IC50 values are difficult to read (values are distributed over multiple scales), which is why we convert the IC50 values to pIC50."
   ]
  },
  {
   "cell_type": "code",
   "execution_count": 41,
   "metadata": {},
   "outputs": [],
   "source": [
    "def convert_ic50_to_pic50(IC50_value):\n",
    "    pIC50_value = 9 - math.log10(IC50_value)\n",
    "    return pIC50_value"
   ]
  },
  {
   "cell_type": "code",
   "execution_count": 42,
   "metadata": {},
   "outputs": [],
   "source": [
    "# Apply conversion to each row of the compounds DataFrame\n",
    "output_df[\"pIC50\"] = output_df.apply(lambda x: convert_ic50_to_pic50(x.IC50), axis=1)"
   ]
  },
  {
   "cell_type": "code",
   "execution_count": 43,
   "metadata": {},
   "outputs": [
    {
     "data": {
      "text/html": [
       "<div>\n",
       "<style scoped>\n",
       "    .dataframe tbody tr th:only-of-type {\n",
       "        vertical-align: middle;\n",
       "    }\n",
       "\n",
       "    .dataframe tbody tr th {\n",
       "        vertical-align: top;\n",
       "    }\n",
       "\n",
       "    .dataframe thead th {\n",
       "        text-align: right;\n",
       "    }\n",
       "</style>\n",
       "<table border=\"1\" class=\"dataframe\">\n",
       "  <thead>\n",
       "    <tr style=\"text-align: right;\">\n",
       "      <th></th>\n",
       "      <th>molecule_chembl_id</th>\n",
       "      <th>IC50</th>\n",
       "      <th>units</th>\n",
       "      <th>smiles</th>\n",
       "      <th>pIC50</th>\n",
       "    </tr>\n",
       "  </thead>\n",
       "  <tbody>\n",
       "    <tr>\n",
       "      <th>0</th>\n",
       "      <td>CHEMBL68920</td>\n",
       "      <td>41.0</td>\n",
       "      <td>nM</td>\n",
       "      <td>Cc1cc(C)c(/C=C2\\C(=O)Nc3ncnc(Nc4ccc(F)c(Cl)c4)...</td>\n",
       "      <td>7.387216</td>\n",
       "    </tr>\n",
       "    <tr>\n",
       "      <th>1</th>\n",
       "      <td>CHEMBL69960</td>\n",
       "      <td>170.0</td>\n",
       "      <td>nM</td>\n",
       "      <td>Cc1cc(C(=O)N2CCOCC2)[nH]c1/C=C1\\C(=O)Nc2ncnc(N...</td>\n",
       "      <td>6.769551</td>\n",
       "    </tr>\n",
       "    <tr>\n",
       "      <th>2</th>\n",
       "      <td>CHEMBL137635</td>\n",
       "      <td>9300.0</td>\n",
       "      <td>nM</td>\n",
       "      <td>CN(c1ccccc1)c1ncnc2ccc(N/N=N/Cc3ccccn3)cc12</td>\n",
       "      <td>5.031517</td>\n",
       "    </tr>\n",
       "    <tr>\n",
       "      <th>3</th>\n",
       "      <td>CHEMBL306988</td>\n",
       "      <td>500000.0</td>\n",
       "      <td>nM</td>\n",
       "      <td>CC(=C(C#N)C#N)c1ccc(NC(=O)CCC(=O)O)cc1</td>\n",
       "      <td>3.301030</td>\n",
       "    </tr>\n",
       "    <tr>\n",
       "      <th>4</th>\n",
       "      <td>CHEMBL66879</td>\n",
       "      <td>3000000.0</td>\n",
       "      <td>nM</td>\n",
       "      <td>O=C(O)/C=C/c1ccc(O)cc1</td>\n",
       "      <td>2.522879</td>\n",
       "    </tr>\n",
       "  </tbody>\n",
       "</table>\n",
       "</div>"
      ],
      "text/plain": [
       "  molecule_chembl_id       IC50 units  \\\n",
       "0        CHEMBL68920       41.0    nM   \n",
       "1        CHEMBL69960      170.0    nM   \n",
       "2       CHEMBL137635     9300.0    nM   \n",
       "3       CHEMBL306988   500000.0    nM   \n",
       "4        CHEMBL66879  3000000.0    nM   \n",
       "\n",
       "                                              smiles     pIC50  \n",
       "0  Cc1cc(C)c(/C=C2\\C(=O)Nc3ncnc(Nc4ccc(F)c(Cl)c4)...  7.387216  \n",
       "1  Cc1cc(C(=O)N2CCOCC2)[nH]c1/C=C1\\C(=O)Nc2ncnc(N...  6.769551  \n",
       "2        CN(c1ccccc1)c1ncnc2ccc(N/N=N/Cc3ccccn3)cc12  5.031517  \n",
       "3             CC(=C(C#N)C#N)c1ccc(NC(=O)CCC(=O)O)cc1  3.301030  \n",
       "4                             O=C(O)/C=C/c1ccc(O)cc1  2.522879  "
      ]
     },
     "execution_count": 43,
     "metadata": {},
     "output_type": "execute_result"
    }
   ],
   "source": [
    "output_df.head()"
   ]
  },
  {
   "cell_type": "markdown",
   "metadata": {},
   "source": [
    "#### Draw compound data\n",
    "\n",
    "Let's have a look at our collected data set.\n",
    "\n",
    "First, we plot the pIC50 value distribution"
   ]
  },
  {
   "cell_type": "code",
   "execution_count": 44,
   "metadata": {
    "tags": [
     "nbsphinx-thumbnail"
    ]
   },
   "outputs": [
    {
     "data": {
      "text/plain": [
       "array([[<AxesSubplot:title={'center':'pIC50'}>]], dtype=object)"
      ]
     },
     "execution_count": 44,
     "metadata": {},
     "output_type": "execute_result"
    },
    {
     "data": {
      "image/png": "[encoded data removed]",
      "text/plain": [
       "<Figure size 432x288 with 1 Axes>"
      ]
     },
     "metadata": {
      "needs_background": "light"
     },
     "output_type": "display_data"
    }
   ],
   "source": [
    "output_df.hist(column=\"pIC50\")"
   ]
  },
  {
   "cell_type": "markdown",
   "metadata": {},
   "source": [
    "In the next steps, we add a column for RDKit molecule objects to our `DataFrame` and look at the structures of the molecules with the highest pIC50 values. "
   ]
  },
  {
   "cell_type": "code",
   "execution_count": 45,
   "metadata": {},
   "outputs": [],
   "source": [
    "# Add molecule column\n",
    "PandasTools.AddMoleculeColumnToFrame(output_df, smilesCol=\"smiles\")"
   ]
  },
  {
   "cell_type": "code",
   "execution_count": 46,
   "metadata": {},
   "outputs": [],
   "source": [
    "# Sort molecules by pIC50\n",
    "output_df.sort_values(by=\"pIC50\", ascending=False, inplace=True)\n",
    "\n",
    "# Reset index\n",
    "output_df.reset_index(drop=True, inplace=True)"
   ]
  },
  {
   "cell_type": "markdown",
   "metadata": {},
   "source": [
    "Show the three most active molecules, i.e. molecules with the highest pIC50 values."
   ]
  },
  {
   "cell_type": "code",
   "execution_count": 47,
   "metadata": {},
   "outputs": [
    {
     "data": {
      "text/html": [
       "<div>\n",
       "<style scoped>\n",
       "    .dataframe tbody tr th:only-of-type {\n",
       "        vertical-align: middle;\n",
       "    }\n",
       "\n",
       "    .dataframe tbody tr th {\n",
       "        vertical-align: top;\n",
       "    }\n",
       "\n",
       "    .dataframe thead th {\n",
       "        text-align: right;\n",
       "    }\n",
       "</style>\n",
       "<table border=\"1\" class=\"dataframe\">\n",
       "  <thead>\n",
       "    <tr style=\"text-align: right;\">\n",
       "      <th></th>\n",
       "      <th>molecule_chembl_id</th>\n",
       "      <th>IC50</th>\n",
       "      <th>units</th>\n",
       "      <th>pIC50</th>\n",
       "      <th>ROMol</th>\n",
       "    </tr>\n",
       "  </thead>\n",
       "  <tbody>\n",
       "    <tr>\n",
       "      <th>0</th>\n",
       "      <td>CHEMBL63786</td>\n",
       "      <td>0.003</td>\n",
       "      <td>nM</td>\n",
       "      <td>11.522879</td>\n",
       "      <td><img data-content=\"rdkit/molecule\" src=\"data:image/png;base64,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\" alt=\"Mol\"/></td>\n",
       "    </tr>\n",
       "    <tr>\n",
       "      <th>1</th>\n",
       "      <td>CHEMBL35820</td>\n",
       "      <td>0.006</td>\n",
       "      <td>nM</td>\n",
       "      <td>11.221849</td>\n",
       "      <td><img data-content=\"rdkit/molecule\" src=\"data:image/png;base64,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\" alt=\"Mol\"/></td>\n",
       "    </tr>\n",
       "    <tr>\n",
       "      <th>2</th>\n",
       "      <td>CHEMBL53711</td>\n",
       "      <td>0.006</td>\n",
       "      <td>nM</td>\n",
       "      <td>11.221849</td>\n",
       "      <td><img data-content=\"rdkit/molecule\" src=\"data:image/png;base64,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\" alt=\"Mol\"/></td>\n",
       "    </tr>\n",
       "  </tbody>\n",
       "</table>\n",
       "</div>"
      ],
      "text/plain": [
       "  molecule_chembl_id   IC50 units      pIC50  \\\n",
       "0        CHEMBL63786  0.003    nM  11.522879   \n",
       "1        CHEMBL35820  0.006    nM  11.221849   \n",
       "2        CHEMBL53711  0.006    nM  11.221849   \n",
       "\n",
       "                                               ROMol  \n",
       "0  <img data-content=\"rdkit/molecule\" src=\"data:i...  \n",
       "1  <img data-content=\"rdkit/molecule\" src=\"data:i...  \n",
       "2  <img data-content=\"rdkit/molecule\" src=\"data:i...  "
      ]
     },
     "execution_count": 47,
     "metadata": {},
     "output_type": "execute_result"
    }
   ],
   "source": [
    "output_df.drop(\"smiles\", axis=1).head(3)"
   ]
  },
  {
   "cell_type": "markdown",
   "metadata": {},
   "source": [
    "#### Write output data to file\n",
    "\n",
    "We want to use this bioactivity-compound dataset in the following talktorials, thus we save the data as `csv` file. \n",
    "Note that it is advisable to drop the molecule column (which only contains an image of the molecules) when saving the data."
   ]
  },
  {
   "cell_type": "code",
   "execution_count": 48,
   "metadata": {
    "scrolled": true
   },
   "outputs": [],
   "source": [
    "output_df.drop(\"ROMol\", axis=1).to_csv(DATA / \"EGFR_compounds.csv\")"
   ]
  },
  {
   "cell_type": "code",
   "execution_count": 49,
   "metadata": {},
   "outputs": [
    {
     "name": "stdout",
     "output_type": "stream",
     "text": [
      "DataFrame shape: (5568, 6)\n"
     ]
    }
   ],
   "source": [
    "print(f\"DataFrame shape: {output_df.shape}\")\n",
    "# NBVAL_CHECK_OUTPUT"
   ]
  },
  {
   "cell_type": "markdown",
   "metadata": {},
   "source": [
    "## Discussion"
   ]
  },
  {
   "cell_type": "markdown",
   "metadata": {},
   "source": [
    "In this tutorial, we collected bioactivity data for our target of interest from the ChEMBL database. \n",
    "We filtered the data set in order to only contain molecules with measured IC50 bioactivity values. \n",
    "\n",
    "Be aware that ChEMBL data originates from various sources. Compound data has been generated in different labs by different people all over the world. Therefore, we have to be cautious with the predictions we make using this data set. It is always important to consider the source of the data and consistency of data production assays when interpreting the results and determining how much confidence we have in our predictions.\n",
    "\n",
    "In the next tutorials, we will filter our acquired data by Lipinski's rule of five and by unwanted substructures. Another important step would be to *clean* the molecular data. As this is not shown in any of our talktorials (yet), we would like to refer to the [Standardiser library](https://github.com/flatkinson/standardiser) or [MolVS](https://molvs.readthedocs.io/en/latest/) as useful tools for this task."
   ]
  },
  {
   "cell_type": "markdown",
   "metadata": {},
   "source": [
    "## Quiz"
   ]
  },
  {
   "cell_type": "markdown",
   "metadata": {},
   "source": [
    "* We have downloaded in this talktorial molecules and bioactivity data from ChEMBL. What else is the ChEMBL database useful for?\n",
    "* What is the difference between IC50 and EC50?\n",
    "* What can we use the data extracted from ChEMBL for?"
   ]
  }
 ],
 "metadata": {
  "kernelspec": {
   "display_name": "Python 3",
   "language": "python",
   "name": "python3"
  },
  "language_info": {
   "codemirror_mode": {
    "name": "ipython",
    "version": 3
   },
   "file_extension": ".py",
   "mimetype": "text/x-python",
   "name": "python",
   "nbconvert_exporter": "python",
   "pygments_lexer": "ipython3",
   "version": "3.9.4"
  },
  "toc-autonumbering": true,
  "toc-showmarkdowntxt": false,
  "toc-showtags": false,
  "widgets": {
   "application/vnd.jupyter.widget-state+json": {
    "state": {
     "6ffdbb1f407545908c235770ea6c063e": {
      "model_module": "@jupyter-widgets/controls",
      "model_module_version": "1.5.0",
      "model_name": "HBoxModel",
      "state": {
       "children": [
        "IPY_MODEL_824857dfa1044a1b91d7810f162d021a",
        "IPY_MODEL_755a27af4d6e44b192a544d800eb2dc9",
        "IPY_MODEL_8595997fa63240508058fb7e45a9fafc"
       ],
       "layout": "IPY_MODEL_c0d3717476844df988c059b54f73bf43"
      }
     },
     "755a27af4d6e44b192a544d800eb2dc9": {
      "model_module": "@jupyter-widgets/controls",
      "model_module_version": "1.5.0",
      "model_name": "FloatProgressModel",
      "state": {
       "bar_style": "success",
       "layout": "IPY_MODEL_7cdd36f69d1947a093565cdf847dc7f1",
       "max": 5575,
       "style": "IPY_MODEL_90a60d04d48e49a1987bfdc20a9035eb",
       "value": 5575
      }
     },
     "7cdd36f69d1947a093565cdf847dc7f1": {
      "model_module": "@jupyter-widgets/base",
      "model_module_version": "1.2.0",
      "model_name": "LayoutModel",
      "state": {}
     },
     "824857dfa1044a1b91d7810f162d021a": {
      "model_module": "@jupyter-widgets/controls",
      "model_module_version": "1.5.0",
      "model_name": "HTMLModel",
      "state": {
       "layout": "IPY_MODEL_d30c4020ac494b06af8696f57d0ae768",
       "style": "IPY_MODEL_d1511df1a6c04cebbc8d0ba46eeef339",
       "value": "100%"
      }
     },
     "8595997fa63240508058fb7e45a9fafc": {
      "model_module": "@jupyter-widgets/controls",
      "model_module_version": "1.5.0",
      "model_name": "HTMLModel",
      "state": {
       "layout": "IPY_MODEL_e884ffbd282d44e7a8247bb04619d71d",
       "style": "IPY_MODEL_a766d7a82141410e84f43ce28f8f4115",
       "value": " 5575/5575 [00:02&lt;00:00, 3747.61it/s]"
      }
     },
     "90a60d04d48e49a1987bfdc20a9035eb": {
      "model_module": "@jupyter-widgets/controls",
      "model_module_version": "1.5.0",
      "model_name": "ProgressStyleModel",
      "state": {
       "description_width": ""
      }
     },
     "a766d7a82141410e84f43ce28f8f4115": {
      "model_module": "@jupyter-widgets/controls",
      "model_module_version": "1.5.0",
      "model_name": "DescriptionStyleModel",
      "state": {
       "description_width": ""
      }
     },
     "c0d3717476844df988c059b54f73bf43": {
      "model_module": "@jupyter-widgets/base",
      "model_module_version": "1.2.0",
      "model_name": "LayoutModel",
      "state": {}
     },
     "d1511df1a6c04cebbc8d0ba46eeef339": {
      "model_module": "@jupyter-widgets/controls",
      "model_module_version": "1.5.0",
      "model_name": "DescriptionStyleModel",
      "state": {
       "description_width": ""
      }
     },
     "d30c4020ac494b06af8696f57d0ae768": {
      "model_module": "@jupyter-widgets/base",
      "model_module_version": "1.2.0",
      "model_name": "LayoutModel",
      "state": {}
     },
     "e884ffbd282d44e7a8247bb04619d71d": {
      "model_module": "@jupyter-widgets/base",
      "model_module_version": "1.2.0",
      "model_name": "LayoutModel",
      "state": {}
     }
    },
    "version_major": 2,
    "version_minor": 0
   }
  }
 },
 "nbformat": 4,
 "nbformat_minor": 4
}
