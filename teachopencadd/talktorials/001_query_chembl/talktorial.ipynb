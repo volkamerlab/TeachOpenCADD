{
 "cells": [
  {
   "cell_type": "markdown",
   "metadata": {},
   "source": [
    "# T001 · Compound data acquisition (ChEMBL)\n",
    "\n",
    "Authors:\n",
    "\n",
    "- Svetlana Leng, CADD seminar 2017, Volkamer lab, Charité/FU Berlin \n",
    "- Paula Junge, CADD seminar 2018, Volkamer lab, Charité/FU Berlin\n",
    "- Dominique Sydow, 2019-2020, [Volkamer lab, Charité](https://volkamerlab.org/)\n",
    "- Andrea Volkamer, 2020, [Volkamer lab, Charité](https://volkamerlab.org/)\n",
    "- Yonghui Chen, 2020, [Volkamer lab, Charité](https://volkamerlab.org/)"
   ]
  },
  {
   "cell_type": "markdown",
   "metadata": {},
   "source": [
    "__Talktorial T001__: This talktorial is part of the TeachOpenCADD pipeline described in the [first TeachOpenCADD paper](https://jcheminf.biomedcentral.com/articles/10.1186/s13321-019-0351-x), comprising of talktorials T001-T010."
   ]
  },
  {
   "cell_type": "markdown",
   "metadata": {},
   "source": [
    "## Aim of this talktorial\n",
    "\n",
    "In this notebook, we will learn more about the ChEMBL database and how to extract data from ChEMBL, i.e. (compound, activity data) pairs for a target of interest. These data sets can be used for many cheminformatics tasks, such as similarity search, clustering or machine learning.\n",
    "\n",
    "Our work here will include finding compounds which were tested against a certain target and filtering available bioactivity data."
   ]
  },
  {
   "cell_type": "markdown",
   "metadata": {},
   "source": [
    "### Contents in *Theory*\n",
    "\n",
    "* ChEMBL database\n",
    "    * ChEMBL web services\n",
    "    * ChEMBL webresource client\n",
    "* Compound activity measures\n",
    "    * IC50 measure\n",
    "    * pIC50 value"
   ]
  },
  {
   "cell_type": "markdown",
   "metadata": {},
   "source": [
    "### Contents in *Practical*\n",
    "    \n",
    "**Goal: Get a list of compounds with bioactivity data for a given target**\n",
    "\n",
    "* Connect to ChEMBL database\n",
    "* Get target data (example: EGFR kinase)\n",
    "    * Fetch and download target data\n",
    "    * Select target ChEMBL ID\n",
    "* Get bioactivity data\n",
    "    * Fetch and download bioactivity data for target\n",
    "    * Preprocess and filter bioactivities\n",
    "* Get compound data\n",
    "    * Fetch and download compound data\n",
    "    * Preprocess and filter compound data\n",
    "* Output bioactivity-compound data\n",
    "    * Merge bioactivity and compound data, and add pIC50 values\n",
    "    * Draw molecules with highest pIC50\n",
    "    * Write output file"
   ]
  },
  {
   "cell_type": "markdown",
   "metadata": {},
   "source": [
    "### References\n",
    "\n",
    "* ChEMBL bioactivity database: [Gaulton *et al.*, <i>Nucleic Acids Res.</i> (2017), 45(Database issue), D945–D954](https://www.ncbi.nlm.nih.gov/pmc/articles/PMC5210557/)\n",
    "* ChEMBL web services: [Davies *et al.*, <i>Nucleic Acids Res.</i> (2015), <b>43</b>, 612-620](https://academic.oup.com/nar/article/43/W1/W612/2467881) \n",
    "* [ChEMBL web-interface](https://www.ebi.ac.uk/chembl/)\n",
    "*  GitHub [ChEMBL webrescource client](https://github.com/chembl/chembl_webresource_client)\n",
    "* [myChEMBL web services version 2.x](https://github.com/chembl/mychembl/blob/master/ipython_notebooks/09_myChEMBL_web_services.ipynb)\n",
    "* The EBI RDF platform: [Jupp *et al.*, <i>Bioinformatics </i> (2014), 30(9), 1338-9](https://www.ncbi.nlm.nih.gov/pubmed/24413672)\n",
    "* Info on half maximal inhibitory concentration: [(p)IC50](https://en.wikipedia.org/wiki/IC50)\n",
    "* [UniProt website](https://www.uniprot.org/)"
   ]
  },
  {
   "cell_type": "markdown",
   "metadata": {},
   "source": [
    "## Theory"
   ]
  },
  {
   "cell_type": "markdown",
   "metadata": {},
   "source": [
    "### ChEMBL database\n",
    ">\"ChEMBL is a manually curated database of bioactive molecules with drug-like properties. It brings together chemical, bioactivity and genomic data to aid the translation of genomic information into effective new drugs.\" ([ChEMBL website](https://www.ebi.ac.uk/chembl/))\n",
    "\n",
    "* Open large-scale bioactivity database\n",
    "* **Current data content (as of 09.2020, ChEMBL 27):**\n",
    "    * \\>1.9 million distinct compounds\n",
    "    * \\>16 million activity values\n",
    "    * Assays are mapped to ~13,000 targets\n",
    "* **Data sources** include scientific literature, PubChem bioassays, Drugs for Neglected Diseases Initiative (DNDi), BindingDB database, ...\n",
    "* ChEMBL data can be accessed via a [web-interface](https://www.ebi.ac.uk/chembl/), the [EBI-RDF platform](https://www.ncbi.nlm.nih.gov/pubmed/24413672) and the [ChEMBL web services](https://github.com/chembl/mychembl/blob/master/ipython_notebooks/09_myChEMBL_web_services.ipynb)"
   ]
  },
  {
   "cell_type": "markdown",
   "metadata": {},
   "source": [
    "#### ChEMBL web services\n",
    "\n",
    "* RESTful web service\n",
    "* ChEMBL web service version 2.x resource schema: \n",
    "\n",
    "![ChEMBL web service schema](images/chembl_webservices_schema_diagram.jpg)\n",
    "\n",
    "*Figure 1:* \n",
    "\"[ChEMBL web service schema diagram](https://www.ncbi.nlm.nih.gov/pmc/articles/PMC4489243/figure/F2/). The oval shapes represent ChEMBL web service resources and the line between two resources indicates that they share a common attribute. The arrow direction shows where the primary information about a resource type can be found. A dashed line indicates the relationship between two resources behaves differently. For example, the `Image` resource provides a graphical based representation of a `Molecule`.\"\n",
    "Figure and description taken from: [<i>Nucleic Acids Res.</i> (2015), <b>43</b>, 612-620](https://academic.oup.com/nar/article/43/W1/W612/2467881)."
   ]
  },
  {
   "cell_type": "markdown",
   "metadata": {},
   "source": [
    "#### ChEMBL webresource client\n",
    "\n",
    "* Python client library for accessing ChEMBL data\n",
    "* Handles interaction with the HTTPS protocol\n",
    "* Lazy evaluation of results -> reduced number of network requests"
   ]
  },
  {
   "cell_type": "markdown",
   "metadata": {},
   "source": [
    "### Compound activity measures"
   ]
  },
  {
   "cell_type": "markdown",
   "metadata": {},
   "source": [
    "#### IC50 measure\n",
    "\n",
    "* [Half maximal inhibitory concentration](https://en.wikipedia.org/wiki/IC50)\n",
    "* Indicates how much of a particular drug or other substance is needed to inhibit a given biological process by half\n",
    "\n",
    "![Wiki_Example_IC50_curve_demonstrating_visually_how_IC50_is_derived](images/Wiki_Example_IC50_curve_demonstrating_visually_how_IC50_is_derived.png)\n",
    "\n",
    "*Figure 2:* Visual demonstration of how to derive an IC50 value: \n",
    "(i) Arrange inhibition data on y-axis and log(concentration) on x-axis. (ii) Identify maximum and minimum inhibition. (iii) The IC50 is the concentration at which the curve passes through the 50% inhibition level. Figure [\"Example IC50 curve demonstrating visually how IC50 is derived\"](https://en.wikipedia.org/wiki/IC50#/media/File:Example_IC50_curve_demonstrating_visually_how_IC50_is_derived.png) by JesseAlanGordon is licensed under [CC BY-SA 3.0](https://creativecommons.org/licenses/by-sa/3.0/)."
   ]
  },
  {
   "cell_type": "markdown",
   "metadata": {},
   "source": [
    "#### pIC50 value\n",
    "\n",
    "* To facilitate the comparison of IC50 values, which have a large value range and are given in different units (M, nM, ...), often pIC50 values are used\n",
    "* The pIC50 is the negative log of the IC50 value when converted to molar units: \n",
    "    $ pIC_{50} = -log_{10}(IC_{50}) $, where $ IC_{50}$ is specified in units of M\n",
    "* Higher pIC50 values indicate exponentially greater potency of the drug\n",
    "* Note that the conversion can be adapted to the respective IC50 unit, e.g. for nM: $pIC_{50} = -log_{10}(IC_{50}*10^{-9})= 9-log_{10}(IC_{50}) $\n",
    "\n",
    "Other activity measures:\n",
    "\n",
    "Besides, IC50 and pIC50, other bioactivity measures are used, such as the equilibrium constant [KI](https://en.wikipedia.org/wiki/Equilibrium_constant) and the half maximal effective concentration  [EC50](https://en.wikipedia.org/wiki/EC50)."
   ]
  },
  {
   "cell_type": "markdown",
   "metadata": {},
   "source": [
    "## Practical\n",
    "\n",
    "In the following, we want to download all molecules that have been tested against our target of interest, the **epidermal growth factor receptor** ([**EGFR**](https://www.uniprot.org/uniprot/P00533)) kinase."
   ]
  },
  {
   "cell_type": "markdown",
   "metadata": {},
   "source": [
    "### Connect to ChEMBL database"
   ]
  },
  {
   "cell_type": "markdown",
   "metadata": {},
   "source": [
    "First, the ChEMBL webresource client as well as other python libraries are imported."
   ]
  },
  {
   "cell_type": "code",
   "execution_count": 1,
   "metadata": {},
   "outputs": [],
   "source": [
    "import math\n",
    "from pathlib import Path\n",
    "from zipfile import ZipFile\n",
    "from tempfile import TemporaryDirectory\n",
    "import numpy as np\n",
    "import pandas as pd\n",
    "from rdkit.Chem import PandasTools\n",
    "from chembl_webresource_client.new_client import new_client"
   ]
  },
  {
   "cell_type": "code",
   "execution_count": 2,
   "metadata": {},
   "outputs": [],
   "source": [
    "HERE = Path(_dh[-1])\n",
    "DATA = HERE / \"data\""
   ]
  },
  {
   "cell_type": "markdown",
   "metadata": {},
   "source": [
    "Next, we create resource objects for API access."
   ]
  },
  {
   "cell_type": "code",
   "execution_count": 3,
   "metadata": {},
   "outputs": [],
   "source": [
    "targets_api = new_client.target\n",
    "compounds_api = new_client.molecule\n",
    "bioactivities_api = new_client.activity"
   ]
  },
  {
   "cell_type": "code",
   "execution_count": 4,
   "metadata": {},
   "outputs": [
    {
     "data": {
      "text/plain": [
       "chembl_webresource_client.query_set.QuerySet"
      ]
     },
     "execution_count": 4,
     "metadata": {},
     "output_type": "execute_result"
    }
   ],
   "source": [
    "type(targets_api)"
   ]
  },
  {
   "cell_type": "markdown",
   "metadata": {},
   "source": [
    "### Get target data (EGFR kinase)\n",
    "\n",
    "* Get UniProt ID of the target of interest (EGFR kinase:  [P00533](http://www.uniprot.org/uniprot/P00533)) from [UniProt website](https://www.uniprot.org/)\n",
    "* Use UniProt ID to get target information\n",
    "\n",
    "Select a different UniProt ID, if you are interested in another target."
   ]
  },
  {
   "cell_type": "code",
   "execution_count": 5,
   "metadata": {},
   "outputs": [],
   "source": [
    "uniprot_id = \"P00533\""
   ]
  },
  {
   "cell_type": "markdown",
   "metadata": {},
   "source": [
    "#### Fetch target data from ChEMBL"
   ]
  },
  {
   "cell_type": "code",
   "execution_count": 6,
   "metadata": {},
   "outputs": [
    {
     "name": "stdout",
     "output_type": "stream",
     "text": [
      "The type of the targets is \"<class 'chembl_webresource_client.query_set.QuerySet'>\"\n"
     ]
    }
   ],
   "source": [
    "# Get target information from ChEMBL but restrict it to specified values only\n",
    "targets = targets_api.get(target_components__accession=uniprot_id).only(\n",
    "    \"target_chembl_id\", \"organism\", \"pref_name\", \"target_type\"\n",
    ")\n",
    "print(f'The type of the targets is \"{type(targets)}\"')"
   ]
  },
  {
   "cell_type": "markdown",
   "metadata": {},
   "source": [
    "#### Download target data from ChEMBL\n",
    "\n",
    "The results of the query are stored in `targets`, a `QuerySet`, i.e. the results are not fetched from ChEMBL until we ask for it (here using `pandas.DataFrame.from_records`).\n",
    "\n",
    "More information about the `QuerySet` datatype:\n",
    "\n",
    "> QuerySets are lazy – the act of creating a QuerySet does not involve any database activity. You can stack filters together all day long, and Django will actually not run the query until the QuerySet is evaluated. \n",
    "([querysets-are-lazy](https://docs.djangoproject.com/en/3.0/topics/db/queries/#querysets-are-lazy))"
   ]
  },
  {
   "cell_type": "code",
   "execution_count": 7,
   "metadata": {},
   "outputs": [
    {
     "data": {
      "text/html": [
       "<div>\n",
       "<style scoped>\n",
       "    .dataframe tbody tr th:only-of-type {\n",
       "        vertical-align: middle;\n",
       "    }\n",
       "\n",
       "    .dataframe tbody tr th {\n",
       "        vertical-align: top;\n",
       "    }\n",
       "\n",
       "    .dataframe thead th {\n",
       "        text-align: right;\n",
       "    }\n",
       "</style>\n",
       "<table border=\"1\" class=\"dataframe\">\n",
       "  <thead>\n",
       "    <tr style=\"text-align: right;\">\n",
       "      <th></th>\n",
       "      <th>organism</th>\n",
       "      <th>pref_name</th>\n",
       "      <th>target_chembl_id</th>\n",
       "      <th>target_type</th>\n",
       "    </tr>\n",
       "  </thead>\n",
       "  <tbody>\n",
       "    <tr>\n",
       "      <th>0</th>\n",
       "      <td>Homo sapiens</td>\n",
       "      <td>Epidermal growth factor receptor erbB1</td>\n",
       "      <td>CHEMBL203</td>\n",
       "      <td>SINGLE PROTEIN</td>\n",
       "    </tr>\n",
       "    <tr>\n",
       "      <th>1</th>\n",
       "      <td>Homo sapiens</td>\n",
       "      <td>Epidermal growth factor receptor erbB1</td>\n",
       "      <td>CHEMBL203</td>\n",
       "      <td>SINGLE PROTEIN</td>\n",
       "    </tr>\n",
       "    <tr>\n",
       "      <th>2</th>\n",
       "      <td>Homo sapiens</td>\n",
       "      <td>Epidermal growth factor receptor and ErbB2 (HE...</td>\n",
       "      <td>CHEMBL2111431</td>\n",
       "      <td>PROTEIN FAMILY</td>\n",
       "    </tr>\n",
       "    <tr>\n",
       "      <th>3</th>\n",
       "      <td>Homo sapiens</td>\n",
       "      <td>Epidermal growth factor receptor</td>\n",
       "      <td>CHEMBL2363049</td>\n",
       "      <td>PROTEIN FAMILY</td>\n",
       "    </tr>\n",
       "    <tr>\n",
       "      <th>4</th>\n",
       "      <td>Homo sapiens</td>\n",
       "      <td>MER intracellular domain/EGFR extracellular do...</td>\n",
       "      <td>CHEMBL3137284</td>\n",
       "      <td>CHIMERIC PROTEIN</td>\n",
       "    </tr>\n",
       "  </tbody>\n",
       "</table>\n",
       "</div>"
      ],
      "text/plain": [
       "       organism                                          pref_name  \\\n",
       "0  Homo sapiens             Epidermal growth factor receptor erbB1   \n",
       "1  Homo sapiens             Epidermal growth factor receptor erbB1   \n",
       "2  Homo sapiens  Epidermal growth factor receptor and ErbB2 (HE...   \n",
       "3  Homo sapiens                   Epidermal growth factor receptor   \n",
       "4  Homo sapiens  MER intracellular domain/EGFR extracellular do...   \n",
       "\n",
       "  target_chembl_id       target_type  \n",
       "0        CHEMBL203    SINGLE PROTEIN  \n",
       "1        CHEMBL203    SINGLE PROTEIN  \n",
       "2    CHEMBL2111431    PROTEIN FAMILY  \n",
       "3    CHEMBL2363049    PROTEIN FAMILY  \n",
       "4    CHEMBL3137284  CHIMERIC PROTEIN  "
      ]
     },
     "execution_count": 7,
     "metadata": {},
     "output_type": "execute_result"
    }
   ],
   "source": [
    "targets = pd.DataFrame.from_records(targets)\n",
    "targets"
   ]
  },
  {
   "cell_type": "markdown",
   "metadata": {},
   "source": [
    "#### Select target (target ChEMBL ID)\n",
    "\n",
    "After checking the entries, we select the first entry as our target of interest:\n",
    "\n",
    "`CHEMBL203`: It is a single protein and represents the human Epidermal growth factor receptor (EGFR, also named erbB1) "
   ]
  },
  {
   "cell_type": "code",
   "execution_count": 8,
   "metadata": {},
   "outputs": [
    {
     "data": {
      "text/plain": [
       "organism                                      Homo sapiens\n",
       "pref_name           Epidermal growth factor receptor erbB1\n",
       "target_chembl_id                                 CHEMBL203\n",
       "target_type                                 SINGLE PROTEIN\n",
       "Name: 0, dtype: object"
      ]
     },
     "execution_count": 8,
     "metadata": {},
     "output_type": "execute_result"
    }
   ],
   "source": [
    "target = targets.iloc[0]\n",
    "target"
   ]
  },
  {
   "cell_type": "markdown",
   "metadata": {},
   "source": [
    "Save selected ChEMBL ID."
   ]
  },
  {
   "cell_type": "code",
   "execution_count": 9,
   "metadata": {},
   "outputs": [
    {
     "name": "stdout",
     "output_type": "stream",
     "text": [
      "The target ChEMBL ID is CHEMBL203\n"
     ]
    }
   ],
   "source": [
    "chembl_id = target.target_chembl_id\n",
    "print(f\"The target ChEMBL ID is {chembl_id}\")\n",
    "# NBVAL_CHECK_OUTPUT"
   ]
  },
  {
   "cell_type": "markdown",
   "metadata": {},
   "source": [
    "### Get bioactivity data\n",
    "\n",
    "Now, we want to query bioactivity data for the target of interest."
   ]
  },
  {
   "cell_type": "markdown",
   "metadata": {},
   "source": [
    "#### Fetch bioactivity data for the target from ChEMBL"
   ]
  },
  {
   "cell_type": "markdown",
   "metadata": {},
   "source": [
    "In this step, we fetch the bioactivity data and filter it to only consider\n",
    "\n",
    "* human proteins, \n",
    "* bioactivity type IC50, \n",
    "* exact measurements (relation `'='`), and\n",
    "* binding data (assay type `'B'`)."
   ]
  },
  {
   "cell_type": "code",
   "execution_count": 10,
   "metadata": {},
   "outputs": [
    {
     "name": "stdout",
     "output_type": "stream",
     "text": [
      "Length and type of bioactivities object: 7177, <class 'chembl_webresource_client.query_set.QuerySet'>\n"
     ]
    }
   ],
   "source": [
    "bioactivities = bioactivities_api.filter(\n",
    "    target_chembl_id=chembl_id, type=\"IC50\", relation=\"=\", assay_type=\"B\"\n",
    ").only(\n",
    "    \"activity_id\",\n",
    "    \"assay_chembl_id\",\n",
    "    \"assay_description\",\n",
    "    \"assay_type\",\n",
    "    \"molecule_chembl_id\",\n",
    "    \"type\",\n",
    "    \"standard_units\",\n",
    "    \"relation\",\n",
    "    \"standard_value\",\n",
    "    \"target_chembl_id\",\n",
    "    \"target_organism\",\n",
    ")\n",
    "\n",
    "print(f\"Length and type of bioactivities object: {len(bioactivities)}, {type(bioactivities)}\")\n",
    "# NBVAL_CHECK_OUTPUT"
   ]
  },
  {
   "cell_type": "markdown",
   "metadata": {},
   "source": [
    "Our bioactivity set contains 7177 entries, each holding the following information."
   ]
  },
  {
   "cell_type": "code",
   "execution_count": 11,
   "metadata": {},
   "outputs": [
    {
     "name": "stdout",
     "output_type": "stream",
     "text": [
      "Length and type of first element: 13, <class 'dict'>\n"
     ]
    },
    {
     "data": {
      "text/plain": [
       "{'activity_id': 32260,\n",
       " 'assay_chembl_id': 'CHEMBL674637',\n",
       " 'assay_description': 'Inhibitory activity towards tyrosine phosphorylation for the epidermal growth factor-receptor kinase',\n",
       " 'assay_type': 'B',\n",
       " 'molecule_chembl_id': 'CHEMBL68920',\n",
       " 'relation': '=',\n",
       " 'standard_units': 'nM',\n",
       " 'standard_value': '41.0',\n",
       " 'target_chembl_id': 'CHEMBL203',\n",
       " 'target_organism': 'Homo sapiens',\n",
       " 'type': 'IC50',\n",
       " 'units': 'uM',\n",
       " 'value': '0.041'}"
      ]
     },
     "execution_count": 11,
     "metadata": {},
     "output_type": "execute_result"
    }
   ],
   "source": [
    "print(f\"Length and type of first element: {len(bioactivities[0])}, {type(bioactivities[0])}\")\n",
    "bioactivities[0]"
   ]
  },
  {
   "cell_type": "markdown",
   "metadata": {},
   "source": [
    "#### Download bioactivity data from ChEMBL"
   ]
  },
  {
   "cell_type": "markdown",
   "metadata": {},
   "source": [
    "Finally, we download the `QuerySet` in the form of a `pandas` `DataFrame`. \n",
    "\n",
    "> **Note**: This step should not take more than 2 minutes, if so try to rerun all cells starting from _\"Fetch bioactivity data for the target from ChEMBL\"_ or read this message below:\n",
    "\n",
    "<details>\n",
    "    \n",
    "<summary>Load a local version of the data (in case you encounter any problems while fetching the data)</summary>\n",
    "    \n",
    "If you experience difficulties to query the ChEMBL database, we also provide the resulting dataframe you will construct in the cell below. If you want to use the saved version, use the following code instead to obtain `bioactivities_df`:\n",
    "  \n",
    "```python\n",
    "# replace first line in cell below with this other line\n",
    "bioactivities_df = pd.read_csv(DATA / \"EGFR_compounds_CHEMBL27.csv.zip\", index_col=0)\n",
    "```\n",
    "\n",
    "</details>"
   ]
  },
  {
   "cell_type": "code",
   "execution_count": 12,
   "metadata": {},
   "outputs": [
    {
     "name": "stdout",
     "output_type": "stream",
     "text": [
      "DataFrame shape: (7178, 13)\n"
     ]
    },
    {
     "data": {
      "text/html": [
       "<div>\n",
       "<style scoped>\n",
       "    .dataframe tbody tr th:only-of-type {\n",
       "        vertical-align: middle;\n",
       "    }\n",
       "\n",
       "    .dataframe tbody tr th {\n",
       "        vertical-align: top;\n",
       "    }\n",
       "\n",
       "    .dataframe thead th {\n",
       "        text-align: right;\n",
       "    }\n",
       "</style>\n",
       "<table border=\"1\" class=\"dataframe\">\n",
       "  <thead>\n",
       "    <tr style=\"text-align: right;\">\n",
       "      <th></th>\n",
       "      <th>activity_id</th>\n",
       "      <th>assay_chembl_id</th>\n",
       "      <th>assay_description</th>\n",
       "      <th>assay_type</th>\n",
       "      <th>molecule_chembl_id</th>\n",
       "      <th>relation</th>\n",
       "      <th>standard_units</th>\n",
       "      <th>standard_value</th>\n",
       "      <th>target_chembl_id</th>\n",
       "      <th>target_organism</th>\n",
       "      <th>type</th>\n",
       "      <th>units</th>\n",
       "      <th>value</th>\n",
       "    </tr>\n",
       "  </thead>\n",
       "  <tbody>\n",
       "    <tr>\n",
       "      <th>0</th>\n",
       "      <td>32260</td>\n",
       "      <td>CHEMBL674637</td>\n",
       "      <td>Inhibitory activity towards tyrosine phosphory...</td>\n",
       "      <td>B</td>\n",
       "      <td>CHEMBL68920</td>\n",
       "      <td>=</td>\n",
       "      <td>nM</td>\n",
       "      <td>41.0</td>\n",
       "      <td>CHEMBL203</td>\n",
       "      <td>Homo sapiens</td>\n",
       "      <td>IC50</td>\n",
       "      <td>uM</td>\n",
       "      <td>0.041</td>\n",
       "    </tr>\n",
       "    <tr>\n",
       "      <th>1</th>\n",
       "      <td>32260</td>\n",
       "      <td>CHEMBL674637</td>\n",
       "      <td>Inhibitory activity towards tyrosine phosphory...</td>\n",
       "      <td>B</td>\n",
       "      <td>CHEMBL68920</td>\n",
       "      <td>=</td>\n",
       "      <td>nM</td>\n",
       "      <td>41.0</td>\n",
       "      <td>CHEMBL203</td>\n",
       "      <td>Homo sapiens</td>\n",
       "      <td>IC50</td>\n",
       "      <td>uM</td>\n",
       "      <td>0.041</td>\n",
       "    </tr>\n",
       "    <tr>\n",
       "      <th>2</th>\n",
       "      <td>32267</td>\n",
       "      <td>CHEMBL674637</td>\n",
       "      <td>Inhibitory activity towards tyrosine phosphory...</td>\n",
       "      <td>B</td>\n",
       "      <td>CHEMBL69960</td>\n",
       "      <td>=</td>\n",
       "      <td>nM</td>\n",
       "      <td>170.0</td>\n",
       "      <td>CHEMBL203</td>\n",
       "      <td>Homo sapiens</td>\n",
       "      <td>IC50</td>\n",
       "      <td>uM</td>\n",
       "      <td>0.17</td>\n",
       "    </tr>\n",
       "    <tr>\n",
       "      <th>3</th>\n",
       "      <td>32680</td>\n",
       "      <td>CHEMBL677833</td>\n",
       "      <td>In vitro inhibition of Epidermal growth factor...</td>\n",
       "      <td>B</td>\n",
       "      <td>CHEMBL137635</td>\n",
       "      <td>=</td>\n",
       "      <td>nM</td>\n",
       "      <td>9300.0</td>\n",
       "      <td>CHEMBL203</td>\n",
       "      <td>Homo sapiens</td>\n",
       "      <td>IC50</td>\n",
       "      <td>uM</td>\n",
       "      <td>9.3</td>\n",
       "    </tr>\n",
       "    <tr>\n",
       "      <th>4</th>\n",
       "      <td>32770</td>\n",
       "      <td>CHEMBL674643</td>\n",
       "      <td>Inhibitory concentration of EGF dependent auto...</td>\n",
       "      <td>B</td>\n",
       "      <td>CHEMBL306988</td>\n",
       "      <td>=</td>\n",
       "      <td>nM</td>\n",
       "      <td>500000.0</td>\n",
       "      <td>CHEMBL203</td>\n",
       "      <td>Homo sapiens</td>\n",
       "      <td>IC50</td>\n",
       "      <td>uM</td>\n",
       "      <td>500.0</td>\n",
       "    </tr>\n",
       "  </tbody>\n",
       "</table>\n",
       "</div>"
      ],
      "text/plain": [
       "   activity_id assay_chembl_id  \\\n",
       "0        32260    CHEMBL674637   \n",
       "1        32260    CHEMBL674637   \n",
       "2        32267    CHEMBL674637   \n",
       "3        32680    CHEMBL677833   \n",
       "4        32770    CHEMBL674643   \n",
       "\n",
       "                                   assay_description assay_type  \\\n",
       "0  Inhibitory activity towards tyrosine phosphory...          B   \n",
       "1  Inhibitory activity towards tyrosine phosphory...          B   \n",
       "2  Inhibitory activity towards tyrosine phosphory...          B   \n",
       "3  In vitro inhibition of Epidermal growth factor...          B   \n",
       "4  Inhibitory concentration of EGF dependent auto...          B   \n",
       "\n",
       "  molecule_chembl_id relation standard_units standard_value target_chembl_id  \\\n",
       "0        CHEMBL68920        =             nM           41.0        CHEMBL203   \n",
       "1        CHEMBL68920        =             nM           41.0        CHEMBL203   \n",
       "2        CHEMBL69960        =             nM          170.0        CHEMBL203   \n",
       "3       CHEMBL137635        =             nM         9300.0        CHEMBL203   \n",
       "4       CHEMBL306988        =             nM       500000.0        CHEMBL203   \n",
       "\n",
       "  target_organism  type units  value  \n",
       "0    Homo sapiens  IC50    uM  0.041  \n",
       "1    Homo sapiens  IC50    uM  0.041  \n",
       "2    Homo sapiens  IC50    uM   0.17  \n",
       "3    Homo sapiens  IC50    uM    9.3  \n",
       "4    Homo sapiens  IC50    uM  500.0  "
      ]
     },
     "execution_count": 12,
     "metadata": {},
     "output_type": "execute_result"
    }
   ],
   "source": [
    "bioactivities_df = pd.DataFrame.from_records(bioactivities)\n",
    "print(f\"DataFrame shape: {bioactivities_df.shape}\")\n",
    "bioactivities_df.head()"
   ]
  },
  {
   "cell_type": "markdown",
   "metadata": {},
   "source": [
    "Note, that we have columns for `standard_units`/`units` and `standard_values`/`values` - in the following we will use the standardized columns (standardization by ChEMBL). Thus, we drop the other two columns.\n",
    "\n",
    "If we used the `units` and `values` columns, we would need to convert all values with many different units to nM:"
   ]
  },
  {
   "cell_type": "code",
   "execution_count": 13,
   "metadata": {},
   "outputs": [
    {
     "data": {
      "text/plain": [
       "array(['uM', 'nM', 'pM', 'M', \"10'3 uM\", \"10'1 ug/ml\", 'ug ml-1',\n",
       "       \"10'-1microM\", \"10'1 uM\", \"10'-1 ug/ml\", \"10'-2 ug/ml\", \"10'2 uM\",\n",
       "       \"10'-3 ug/ml\", \"10'-2microM\", '/uM', \"10'-6g/ml\", 'mM', 'umol/L',\n",
       "       'nmol/L', \"10'-10M\"], dtype=object)"
      ]
     },
     "execution_count": 13,
     "metadata": {},
     "output_type": "execute_result"
    }
   ],
   "source": [
    "bioactivities_df[\"units\"].unique()"
   ]
  },
  {
   "cell_type": "code",
   "execution_count": 14,
   "metadata": {},
   "outputs": [
    {
     "data": {
      "text/html": [
       "<div>\n",
       "<style scoped>\n",
       "    .dataframe tbody tr th:only-of-type {\n",
       "        vertical-align: middle;\n",
       "    }\n",
       "\n",
       "    .dataframe tbody tr th {\n",
       "        vertical-align: top;\n",
       "    }\n",
       "\n",
       "    .dataframe thead th {\n",
       "        text-align: right;\n",
       "    }\n",
       "</style>\n",
       "<table border=\"1\" class=\"dataframe\">\n",
       "  <thead>\n",
       "    <tr style=\"text-align: right;\">\n",
       "      <th></th>\n",
       "      <th>activity_id</th>\n",
       "      <th>assay_chembl_id</th>\n",
       "      <th>assay_description</th>\n",
       "      <th>assay_type</th>\n",
       "      <th>molecule_chembl_id</th>\n",
       "      <th>relation</th>\n",
       "      <th>standard_units</th>\n",
       "      <th>standard_value</th>\n",
       "      <th>target_chembl_id</th>\n",
       "      <th>target_organism</th>\n",
       "      <th>type</th>\n",
       "    </tr>\n",
       "  </thead>\n",
       "  <tbody>\n",
       "    <tr>\n",
       "      <th>0</th>\n",
       "      <td>32260</td>\n",
       "      <td>CHEMBL674637</td>\n",
       "      <td>Inhibitory activity towards tyrosine phosphory...</td>\n",
       "      <td>B</td>\n",
       "      <td>CHEMBL68920</td>\n",
       "      <td>=</td>\n",
       "      <td>nM</td>\n",
       "      <td>41.0</td>\n",
       "      <td>CHEMBL203</td>\n",
       "      <td>Homo sapiens</td>\n",
       "      <td>IC50</td>\n",
       "    </tr>\n",
       "    <tr>\n",
       "      <th>1</th>\n",
       "      <td>32260</td>\n",
       "      <td>CHEMBL674637</td>\n",
       "      <td>Inhibitory activity towards tyrosine phosphory...</td>\n",
       "      <td>B</td>\n",
       "      <td>CHEMBL68920</td>\n",
       "      <td>=</td>\n",
       "      <td>nM</td>\n",
       "      <td>41.0</td>\n",
       "      <td>CHEMBL203</td>\n",
       "      <td>Homo sapiens</td>\n",
       "      <td>IC50</td>\n",
       "    </tr>\n",
       "    <tr>\n",
       "      <th>2</th>\n",
       "      <td>32267</td>\n",
       "      <td>CHEMBL674637</td>\n",
       "      <td>Inhibitory activity towards tyrosine phosphory...</td>\n",
       "      <td>B</td>\n",
       "      <td>CHEMBL69960</td>\n",
       "      <td>=</td>\n",
       "      <td>nM</td>\n",
       "      <td>170.0</td>\n",
       "      <td>CHEMBL203</td>\n",
       "      <td>Homo sapiens</td>\n",
       "      <td>IC50</td>\n",
       "    </tr>\n",
       "    <tr>\n",
       "      <th>3</th>\n",
       "      <td>32680</td>\n",
       "      <td>CHEMBL677833</td>\n",
       "      <td>In vitro inhibition of Epidermal growth factor...</td>\n",
       "      <td>B</td>\n",
       "      <td>CHEMBL137635</td>\n",
       "      <td>=</td>\n",
       "      <td>nM</td>\n",
       "      <td>9300.0</td>\n",
       "      <td>CHEMBL203</td>\n",
       "      <td>Homo sapiens</td>\n",
       "      <td>IC50</td>\n",
       "    </tr>\n",
       "    <tr>\n",
       "      <th>4</th>\n",
       "      <td>32770</td>\n",
       "      <td>CHEMBL674643</td>\n",
       "      <td>Inhibitory concentration of EGF dependent auto...</td>\n",
       "      <td>B</td>\n",
       "      <td>CHEMBL306988</td>\n",
       "      <td>=</td>\n",
       "      <td>nM</td>\n",
       "      <td>500000.0</td>\n",
       "      <td>CHEMBL203</td>\n",
       "      <td>Homo sapiens</td>\n",
       "      <td>IC50</td>\n",
       "    </tr>\n",
       "  </tbody>\n",
       "</table>\n",
       "</div>"
      ],
      "text/plain": [
       "   activity_id assay_chembl_id  \\\n",
       "0        32260    CHEMBL674637   \n",
       "1        32260    CHEMBL674637   \n",
       "2        32267    CHEMBL674637   \n",
       "3        32680    CHEMBL677833   \n",
       "4        32770    CHEMBL674643   \n",
       "\n",
       "                                   assay_description assay_type  \\\n",
       "0  Inhibitory activity towards tyrosine phosphory...          B   \n",
       "1  Inhibitory activity towards tyrosine phosphory...          B   \n",
       "2  Inhibitory activity towards tyrosine phosphory...          B   \n",
       "3  In vitro inhibition of Epidermal growth factor...          B   \n",
       "4  Inhibitory concentration of EGF dependent auto...          B   \n",
       "\n",
       "  molecule_chembl_id relation standard_units standard_value target_chembl_id  \\\n",
       "0        CHEMBL68920        =             nM           41.0        CHEMBL203   \n",
       "1        CHEMBL68920        =             nM           41.0        CHEMBL203   \n",
       "2        CHEMBL69960        =             nM          170.0        CHEMBL203   \n",
       "3       CHEMBL137635        =             nM         9300.0        CHEMBL203   \n",
       "4       CHEMBL306988        =             nM       500000.0        CHEMBL203   \n",
       "\n",
       "  target_organism  type  \n",
       "0    Homo sapiens  IC50  \n",
       "1    Homo sapiens  IC50  \n",
       "2    Homo sapiens  IC50  \n",
       "3    Homo sapiens  IC50  \n",
       "4    Homo sapiens  IC50  "
      ]
     },
     "execution_count": 14,
     "metadata": {},
     "output_type": "execute_result"
    }
   ],
   "source": [
    "bioactivities_df.drop([\"units\", \"value\"], axis=1, inplace=True)\n",
    "bioactivities_df.head()"
   ]
  },
  {
   "cell_type": "markdown",
   "metadata": {},
   "source": [
    "#### Freeze bioactivity data to ChEMBL 27\n",
    "\n",
    "This is a technical step: Usually, we would continue to work with the dataset that we just downloaded (latest dataset). \n",
    "\n",
    "However, here on the TeachOpenCADD platform, we prefer to freeze the dataset to a certain ChEMBL releases (i.e. [ChEMBL 27](http://doi.org/10.6019/CHEMBL.database.27)), \n",
    "so that this talktorial and other talktorials downstream in our CADD pipeline do not change in the future (helping us to maintain the talktorials)."
   ]
  },
  {
   "cell_type": "markdown",
   "metadata": {},
   "source": [
    "This cell will load bioactivity IDs in ChEMBL 27 release from file `data/chembl27_activities.npz.zip`. We have to uncompress it to a temporary file first, and then load it with `numpy`.\n",
    "\n",
    "If you are interested, you can check out how this file was generated in `data/all_chembl_activities.ipynb`."
   ]
  },
  {
   "cell_type": "code",
   "execution_count": 15,
   "metadata": {},
   "outputs": [
    {
     "name": "stdout",
     "output_type": "stream",
     "text": [
      "Number of bioactivity values in full ChEMBL 27 release: 16066124\n"
     ]
    }
   ],
   "source": [
    "with ZipFile(DATA / \"chembl27_activities.npz.zip\") as z, TemporaryDirectory() as tmpdir:\n",
    "    z.extract(\"chembl27_activities.npz\", tmpdir)\n",
    "    with np.load(Path(tmpdir) / \"chembl27_activities.npz\") as f:\n",
    "        bioactivity_ids_chembl_27 = set(f[\"activities\"])\n",
    "\n",
    "print(f\"Number of bioactivity values in full ChEMBL 27 release: {len(bioactivity_ids_chembl_27)}\")\n",
    "# NBVAL_CHECK_OUTPUT"
   ]
  },
  {
   "cell_type": "markdown",
   "metadata": {},
   "source": [
    "Keep only bioactivities with bioactivity IDs from the ChEMBL 27 release."
   ]
  },
  {
   "cell_type": "code",
   "execution_count": 16,
   "metadata": {},
   "outputs": [
    {
     "name": "stdout",
     "output_type": "stream",
     "text": [
      "Number of bioactivities queried for EGFR in this notebook: 7178\n",
      "Number of bioactivities after ChEMBL 27 intersection: 7178\n"
     ]
    }
   ],
   "source": [
    "print(f\"Number of bioactivities queried for EGFR in this notebook: {bioactivities_df.shape[0]}\")\n",
    "# Get the intersection between the current and the frozen ChEMBL version\n",
    "bioactivities_df = bioactivities_df[\n",
    "    bioactivities_df[\"activity_id\"].isin(bioactivity_ids_chembl_27)\n",
    "].copy()\n",
    "# NBVAL_CHECK_OUTPUT\n",
    "print(f\"Number of bioactivities after ChEMBL 27 intersection: {bioactivities_df.shape[0]}\")"
   ]
  },
  {
   "cell_type": "markdown",
   "metadata": {},
   "source": [
    "Note: If these numbers are the same, it means the latest ChEMBL release is still ChEMBL 27. \n",
    "\n",
    "You can check out the current [ChEMBL](https://chembl.gitbook.io/chembl-interface-documentation/downloads) release."
   ]
  },
  {
   "cell_type": "markdown",
   "metadata": {},
   "source": [
    "#### Preprocess and filter bioactivity data\n",
    "\n",
    "1. Convert `standard_value`'s datatype from `object` to `float`\n",
    "2. Delete entries with missing values\n",
    "3. Keep only entries with `standard_unit == nM`\n",
    "4. Delete duplicate molecules\n",
    "5. Reset `DataFrame` index\n",
    "6. Rename columns"
   ]
  },
  {
   "cell_type": "markdown",
   "metadata": {},
   "source": [
    "**1. Convert datatype of \"standard_value\" from \"object\" to \"float\"**\n",
    "\n",
    "The field `standard_value` holds standardized (here IC50) values. In order to make these values usable in calculations later on, convert values to floats."
   ]
  },
  {
   "cell_type": "code",
   "execution_count": 17,
   "metadata": {},
   "outputs": [
    {
     "data": {
      "text/plain": [
       "activity_id            int64\n",
       "assay_chembl_id       object\n",
       "assay_description     object\n",
       "assay_type            object\n",
       "molecule_chembl_id    object\n",
       "relation              object\n",
       "standard_units        object\n",
       "standard_value        object\n",
       "target_chembl_id      object\n",
       "target_organism       object\n",
       "type                  object\n",
       "dtype: object"
      ]
     },
     "execution_count": 17,
     "metadata": {},
     "output_type": "execute_result"
    }
   ],
   "source": [
    "bioactivities_df.dtypes"
   ]
  },
  {
   "cell_type": "code",
   "execution_count": 18,
   "metadata": {},
   "outputs": [
    {
     "data": {
      "text/plain": [
       "activity_id             int64\n",
       "assay_chembl_id        object\n",
       "assay_description      object\n",
       "assay_type             object\n",
       "molecule_chembl_id     object\n",
       "relation               object\n",
       "standard_units         object\n",
       "standard_value        float64\n",
       "target_chembl_id       object\n",
       "target_organism        object\n",
       "type                   object\n",
       "dtype: object"
      ]
     },
     "execution_count": 18,
     "metadata": {},
     "output_type": "execute_result"
    }
   ],
   "source": [
    "bioactivities_df = bioactivities_df.astype({\"standard_value\": \"float64\"})\n",
    "bioactivities_df.dtypes"
   ]
  },
  {
   "cell_type": "markdown",
   "metadata": {},
   "source": [
    "**2. Delete entries with missing values**\n",
    "\n",
    "Use the parameter `inplace=True` to drop values in the current `DataFrame` directly."
   ]
  },
  {
   "cell_type": "code",
   "execution_count": 19,
   "metadata": {},
   "outputs": [
    {
     "name": "stdout",
     "output_type": "stream",
     "text": [
      "DataFrame shape: (7177, 11)\n"
     ]
    }
   ],
   "source": [
    "bioactivities_df.dropna(axis=0, how=\"any\", inplace=True)\n",
    "print(f\"DataFrame shape: {bioactivities_df.shape}\")"
   ]
  },
  {
   "cell_type": "markdown",
   "metadata": {},
   "source": [
    "**3. Keep only entries with \"standard_unit == nM\"** \n",
    "\n",
    "We only want to keep bioactivity entries in `nM`, thus we remove all entries with other units."
   ]
  },
  {
   "cell_type": "code",
   "execution_count": 20,
   "metadata": {},
   "outputs": [
    {
     "name": "stdout",
     "output_type": "stream",
     "text": [
      "Units in downloaded data: ['nM' 'ug.mL-1' '/uM']\n",
      "Number of non-nM entries:    64\n"
     ]
    }
   ],
   "source": [
    "print(f\"Units in downloaded data: {bioactivities_df['standard_units'].unique()}\")\n",
    "print(\n",
    "    f\"Number of non-nM entries:\\\n",
    "    {bioactivities_df[bioactivities_df['standard_units'] != 'nM'].shape[0]}\"\n",
    ")"
   ]
  },
  {
   "cell_type": "code",
   "execution_count": 21,
   "metadata": {},
   "outputs": [
    {
     "name": "stdout",
     "output_type": "stream",
     "text": [
      "Units after filtering: ['nM']\n"
     ]
    }
   ],
   "source": [
    "bioactivities_df = bioactivities_df[bioactivities_df[\"standard_units\"] == \"nM\"]\n",
    "print(f\"Units after filtering: {bioactivities_df['standard_units'].unique()}\")"
   ]
  },
  {
   "cell_type": "code",
   "execution_count": 22,
   "metadata": {},
   "outputs": [
    {
     "name": "stdout",
     "output_type": "stream",
     "text": [
      "DataFrame shape: (7113, 11)\n"
     ]
    }
   ],
   "source": [
    "print(f\"DataFrame shape: {bioactivities_df.shape}\")"
   ]
  },
  {
   "cell_type": "markdown",
   "metadata": {},
   "source": [
    "**4. Delete duplicate molecules**\n",
    "\n",
    "Sometimes the same molecule (`molecule_chembl_id`) has been tested more than once, in this case, we only keep the first one.\n",
    "\n",
    "Note other choices could be to keep the one with the best value or a mean value of all assay results for the respective compound."
   ]
  },
  {
   "cell_type": "code",
   "execution_count": 23,
   "metadata": {},
   "outputs": [
    {
     "name": "stdout",
     "output_type": "stream",
     "text": [
      "DataFrame shape: (5451, 11)\n"
     ]
    }
   ],
   "source": [
    "bioactivities_df.drop_duplicates(\"molecule_chembl_id\", keep=\"first\", inplace=True)\n",
    "print(f\"DataFrame shape: {bioactivities_df.shape}\")"
   ]
  },
  {
   "cell_type": "markdown",
   "metadata": {},
   "source": [
    "**5. Reset \"DataFrame\" index**\n",
    "\n",
    "Since we deleted some rows, but we want to iterate over the index later, we reset the index to be continuous."
   ]
  },
  {
   "cell_type": "code",
   "execution_count": 24,
   "metadata": {},
   "outputs": [
    {
     "data": {
      "text/html": [
       "<div>\n",
       "<style scoped>\n",
       "    .dataframe tbody tr th:only-of-type {\n",
       "        vertical-align: middle;\n",
       "    }\n",
       "\n",
       "    .dataframe tbody tr th {\n",
       "        vertical-align: top;\n",
       "    }\n",
       "\n",
       "    .dataframe thead th {\n",
       "        text-align: right;\n",
       "    }\n",
       "</style>\n",
       "<table border=\"1\" class=\"dataframe\">\n",
       "  <thead>\n",
       "    <tr style=\"text-align: right;\">\n",
       "      <th></th>\n",
       "      <th>activity_id</th>\n",
       "      <th>assay_chembl_id</th>\n",
       "      <th>assay_description</th>\n",
       "      <th>assay_type</th>\n",
       "      <th>molecule_chembl_id</th>\n",
       "      <th>relation</th>\n",
       "      <th>standard_units</th>\n",
       "      <th>standard_value</th>\n",
       "      <th>target_chembl_id</th>\n",
       "      <th>target_organism</th>\n",
       "      <th>type</th>\n",
       "    </tr>\n",
       "  </thead>\n",
       "  <tbody>\n",
       "    <tr>\n",
       "      <th>0</th>\n",
       "      <td>32260</td>\n",
       "      <td>CHEMBL674637</td>\n",
       "      <td>Inhibitory activity towards tyrosine phosphory...</td>\n",
       "      <td>B</td>\n",
       "      <td>CHEMBL68920</td>\n",
       "      <td>=</td>\n",
       "      <td>nM</td>\n",
       "      <td>41.0</td>\n",
       "      <td>CHEMBL203</td>\n",
       "      <td>Homo sapiens</td>\n",
       "      <td>IC50</td>\n",
       "    </tr>\n",
       "    <tr>\n",
       "      <th>1</th>\n",
       "      <td>32267</td>\n",
       "      <td>CHEMBL674637</td>\n",
       "      <td>Inhibitory activity towards tyrosine phosphory...</td>\n",
       "      <td>B</td>\n",
       "      <td>CHEMBL69960</td>\n",
       "      <td>=</td>\n",
       "      <td>nM</td>\n",
       "      <td>170.0</td>\n",
       "      <td>CHEMBL203</td>\n",
       "      <td>Homo sapiens</td>\n",
       "      <td>IC50</td>\n",
       "    </tr>\n",
       "    <tr>\n",
       "      <th>2</th>\n",
       "      <td>32680</td>\n",
       "      <td>CHEMBL677833</td>\n",
       "      <td>In vitro inhibition of Epidermal growth factor...</td>\n",
       "      <td>B</td>\n",
       "      <td>CHEMBL137635</td>\n",
       "      <td>=</td>\n",
       "      <td>nM</td>\n",
       "      <td>9300.0</td>\n",
       "      <td>CHEMBL203</td>\n",
       "      <td>Homo sapiens</td>\n",
       "      <td>IC50</td>\n",
       "    </tr>\n",
       "    <tr>\n",
       "      <th>3</th>\n",
       "      <td>32770</td>\n",
       "      <td>CHEMBL674643</td>\n",
       "      <td>Inhibitory concentration of EGF dependent auto...</td>\n",
       "      <td>B</td>\n",
       "      <td>CHEMBL306988</td>\n",
       "      <td>=</td>\n",
       "      <td>nM</td>\n",
       "      <td>500000.0</td>\n",
       "      <td>CHEMBL203</td>\n",
       "      <td>Homo sapiens</td>\n",
       "      <td>IC50</td>\n",
       "    </tr>\n",
       "    <tr>\n",
       "      <th>4</th>\n",
       "      <td>32772</td>\n",
       "      <td>CHEMBL674643</td>\n",
       "      <td>Inhibitory concentration of EGF dependent auto...</td>\n",
       "      <td>B</td>\n",
       "      <td>CHEMBL66879</td>\n",
       "      <td>=</td>\n",
       "      <td>nM</td>\n",
       "      <td>3000000.0</td>\n",
       "      <td>CHEMBL203</td>\n",
       "      <td>Homo sapiens</td>\n",
       "      <td>IC50</td>\n",
       "    </tr>\n",
       "  </tbody>\n",
       "</table>\n",
       "</div>"
      ],
      "text/plain": [
       "   activity_id assay_chembl_id  \\\n",
       "0        32260    CHEMBL674637   \n",
       "1        32267    CHEMBL674637   \n",
       "2        32680    CHEMBL677833   \n",
       "3        32770    CHEMBL674643   \n",
       "4        32772    CHEMBL674643   \n",
       "\n",
       "                                   assay_description assay_type  \\\n",
       "0  Inhibitory activity towards tyrosine phosphory...          B   \n",
       "1  Inhibitory activity towards tyrosine phosphory...          B   \n",
       "2  In vitro inhibition of Epidermal growth factor...          B   \n",
       "3  Inhibitory concentration of EGF dependent auto...          B   \n",
       "4  Inhibitory concentration of EGF dependent auto...          B   \n",
       "\n",
       "  molecule_chembl_id relation standard_units  standard_value target_chembl_id  \\\n",
       "0        CHEMBL68920        =             nM            41.0        CHEMBL203   \n",
       "1        CHEMBL69960        =             nM           170.0        CHEMBL203   \n",
       "2       CHEMBL137635        =             nM          9300.0        CHEMBL203   \n",
       "3       CHEMBL306988        =             nM        500000.0        CHEMBL203   \n",
       "4        CHEMBL66879        =             nM       3000000.0        CHEMBL203   \n",
       "\n",
       "  target_organism  type  \n",
       "0    Homo sapiens  IC50  \n",
       "1    Homo sapiens  IC50  \n",
       "2    Homo sapiens  IC50  \n",
       "3    Homo sapiens  IC50  \n",
       "4    Homo sapiens  IC50  "
      ]
     },
     "execution_count": 24,
     "metadata": {},
     "output_type": "execute_result"
    }
   ],
   "source": [
    "bioactivities_df.reset_index(drop=True, inplace=True)\n",
    "bioactivities_df.head()"
   ]
  },
  {
   "cell_type": "markdown",
   "metadata": {},
   "source": [
    "**6. Rename columns**"
   ]
  },
  {
   "cell_type": "code",
   "execution_count": 25,
   "metadata": {},
   "outputs": [
    {
     "data": {
      "text/html": [
       "<div>\n",
       "<style scoped>\n",
       "    .dataframe tbody tr th:only-of-type {\n",
       "        vertical-align: middle;\n",
       "    }\n",
       "\n",
       "    .dataframe tbody tr th {\n",
       "        vertical-align: top;\n",
       "    }\n",
       "\n",
       "    .dataframe thead th {\n",
       "        text-align: right;\n",
       "    }\n",
       "</style>\n",
       "<table border=\"1\" class=\"dataframe\">\n",
       "  <thead>\n",
       "    <tr style=\"text-align: right;\">\n",
       "      <th></th>\n",
       "      <th>activity_id</th>\n",
       "      <th>assay_chembl_id</th>\n",
       "      <th>assay_description</th>\n",
       "      <th>assay_type</th>\n",
       "      <th>molecule_chembl_id</th>\n",
       "      <th>relation</th>\n",
       "      <th>units</th>\n",
       "      <th>IC50</th>\n",
       "      <th>target_chembl_id</th>\n",
       "      <th>target_organism</th>\n",
       "      <th>type</th>\n",
       "    </tr>\n",
       "  </thead>\n",
       "  <tbody>\n",
       "    <tr>\n",
       "      <th>0</th>\n",
       "      <td>32260</td>\n",
       "      <td>CHEMBL674637</td>\n",
       "      <td>Inhibitory activity towards tyrosine phosphory...</td>\n",
       "      <td>B</td>\n",
       "      <td>CHEMBL68920</td>\n",
       "      <td>=</td>\n",
       "      <td>nM</td>\n",
       "      <td>41.0</td>\n",
       "      <td>CHEMBL203</td>\n",
       "      <td>Homo sapiens</td>\n",
       "      <td>IC50</td>\n",
       "    </tr>\n",
       "    <tr>\n",
       "      <th>1</th>\n",
       "      <td>32267</td>\n",
       "      <td>CHEMBL674637</td>\n",
       "      <td>Inhibitory activity towards tyrosine phosphory...</td>\n",
       "      <td>B</td>\n",
       "      <td>CHEMBL69960</td>\n",
       "      <td>=</td>\n",
       "      <td>nM</td>\n",
       "      <td>170.0</td>\n",
       "      <td>CHEMBL203</td>\n",
       "      <td>Homo sapiens</td>\n",
       "      <td>IC50</td>\n",
       "    </tr>\n",
       "    <tr>\n",
       "      <th>2</th>\n",
       "      <td>32680</td>\n",
       "      <td>CHEMBL677833</td>\n",
       "      <td>In vitro inhibition of Epidermal growth factor...</td>\n",
       "      <td>B</td>\n",
       "      <td>CHEMBL137635</td>\n",
       "      <td>=</td>\n",
       "      <td>nM</td>\n",
       "      <td>9300.0</td>\n",
       "      <td>CHEMBL203</td>\n",
       "      <td>Homo sapiens</td>\n",
       "      <td>IC50</td>\n",
       "    </tr>\n",
       "    <tr>\n",
       "      <th>3</th>\n",
       "      <td>32770</td>\n",
       "      <td>CHEMBL674643</td>\n",
       "      <td>Inhibitory concentration of EGF dependent auto...</td>\n",
       "      <td>B</td>\n",
       "      <td>CHEMBL306988</td>\n",
       "      <td>=</td>\n",
       "      <td>nM</td>\n",
       "      <td>500000.0</td>\n",
       "      <td>CHEMBL203</td>\n",
       "      <td>Homo sapiens</td>\n",
       "      <td>IC50</td>\n",
       "    </tr>\n",
       "    <tr>\n",
       "      <th>4</th>\n",
       "      <td>32772</td>\n",
       "      <td>CHEMBL674643</td>\n",
       "      <td>Inhibitory concentration of EGF dependent auto...</td>\n",
       "      <td>B</td>\n",
       "      <td>CHEMBL66879</td>\n",
       "      <td>=</td>\n",
       "      <td>nM</td>\n",
       "      <td>3000000.0</td>\n",
       "      <td>CHEMBL203</td>\n",
       "      <td>Homo sapiens</td>\n",
       "      <td>IC50</td>\n",
       "    </tr>\n",
       "  </tbody>\n",
       "</table>\n",
       "</div>"
      ],
      "text/plain": [
       "   activity_id assay_chembl_id  \\\n",
       "0        32260    CHEMBL674637   \n",
       "1        32267    CHEMBL674637   \n",
       "2        32680    CHEMBL677833   \n",
       "3        32770    CHEMBL674643   \n",
       "4        32772    CHEMBL674643   \n",
       "\n",
       "                                   assay_description assay_type  \\\n",
       "0  Inhibitory activity towards tyrosine phosphory...          B   \n",
       "1  Inhibitory activity towards tyrosine phosphory...          B   \n",
       "2  In vitro inhibition of Epidermal growth factor...          B   \n",
       "3  Inhibitory concentration of EGF dependent auto...          B   \n",
       "4  Inhibitory concentration of EGF dependent auto...          B   \n",
       "\n",
       "  molecule_chembl_id relation units       IC50 target_chembl_id  \\\n",
       "0        CHEMBL68920        =    nM       41.0        CHEMBL203   \n",
       "1        CHEMBL69960        =    nM      170.0        CHEMBL203   \n",
       "2       CHEMBL137635        =    nM     9300.0        CHEMBL203   \n",
       "3       CHEMBL306988        =    nM   500000.0        CHEMBL203   \n",
       "4        CHEMBL66879        =    nM  3000000.0        CHEMBL203   \n",
       "\n",
       "  target_organism  type  \n",
       "0    Homo sapiens  IC50  \n",
       "1    Homo sapiens  IC50  \n",
       "2    Homo sapiens  IC50  \n",
       "3    Homo sapiens  IC50  \n",
       "4    Homo sapiens  IC50  "
      ]
     },
     "execution_count": 25,
     "metadata": {},
     "output_type": "execute_result"
    }
   ],
   "source": [
    "bioactivities_df.rename(\n",
    "    columns={\"standard_value\": \"IC50\", \"standard_units\": \"units\"}, inplace=True\n",
    ")\n",
    "bioactivities_df.head()"
   ]
  },
  {
   "cell_type": "code",
   "execution_count": 26,
   "metadata": {},
   "outputs": [
    {
     "name": "stdout",
     "output_type": "stream",
     "text": [
      "DataFrame shape: (5451, 11)\n"
     ]
    }
   ],
   "source": [
    "print(f\"DataFrame shape: {bioactivities_df.shape}\")\n",
    "# NBVAL_CHECK_OUTPUT"
   ]
  },
  {
   "cell_type": "markdown",
   "metadata": {},
   "source": [
    "We now have a set of **5451** molecule ids with respective IC50 values for our target kinase."
   ]
  },
  {
   "cell_type": "markdown",
   "metadata": {},
   "source": [
    "### Get compound data\n",
    "\n",
    "We have a `DataFrame` containing all molecules tested against EGFR (with the respective measured bioactivity). \n",
    "\n",
    "Now, we want to get the molecular structures of the molecules that are linked to respective bioactivity ChEMBL IDs. "
   ]
  },
  {
   "cell_type": "markdown",
   "metadata": {},
   "source": [
    "#### Fetch compound data from ChEMBL\n",
    "\n",
    "Let's have a look at the compounds from ChEMBL which we have defined bioactivity data for: We fetch compound ChEMBL IDs and structures for the compounds linked to our filtered bioactivity data."
   ]
  },
  {
   "cell_type": "code",
   "execution_count": 27,
   "metadata": {},
   "outputs": [],
   "source": [
    "compounds = compounds_api.filter(\n",
    "    molecule_chembl_id__in=list(bioactivities_df[\"molecule_chembl_id\"])\n",
    ").only(\"molecule_chembl_id\", \"molecule_structures\")"
   ]
  },
  {
   "cell_type": "markdown",
   "metadata": {},
   "source": [
    "#### Download compound data from ChEMBL\n",
    "\n",
    "Again, we download the `QuerySet` in the form of a `pandas` `DataFrame`. **This may take some time.**"
   ]
  },
  {
   "cell_type": "code",
   "execution_count": 28,
   "metadata": {},
   "outputs": [
    {
     "name": "stdout",
     "output_type": "stream",
     "text": [
      "DataFrame shape: (5452, 2)\n"
     ]
    }
   ],
   "source": [
    "compounds_df = pd.DataFrame.from_records(compounds)\n",
    "print(f\"DataFrame shape: {compounds_df.shape}\")"
   ]
  },
  {
   "cell_type": "code",
   "execution_count": 29,
   "metadata": {},
   "outputs": [
    {
     "data": {
      "text/html": [
       "<div>\n",
       "<style scoped>\n",
       "    .dataframe tbody tr th:only-of-type {\n",
       "        vertical-align: middle;\n",
       "    }\n",
       "\n",
       "    .dataframe tbody tr th {\n",
       "        vertical-align: top;\n",
       "    }\n",
       "\n",
       "    .dataframe thead th {\n",
       "        text-align: right;\n",
       "    }\n",
       "</style>\n",
       "<table border=\"1\" class=\"dataframe\">\n",
       "  <thead>\n",
       "    <tr style=\"text-align: right;\">\n",
       "      <th></th>\n",
       "      <th>molecule_chembl_id</th>\n",
       "      <th>molecule_structures</th>\n",
       "    </tr>\n",
       "  </thead>\n",
       "  <tbody>\n",
       "    <tr>\n",
       "      <th>0</th>\n",
       "      <td>CHEMBL6246</td>\n",
       "      <td>{'canonical_smiles': 'O=c1oc2c(O)c(O)cc3c(=O)o...</td>\n",
       "    </tr>\n",
       "    <tr>\n",
       "      <th>1</th>\n",
       "      <td>CHEMBL6246</td>\n",
       "      <td>{'canonical_smiles': 'O=c1oc2c(O)c(O)cc3c(=O)o...</td>\n",
       "    </tr>\n",
       "    <tr>\n",
       "      <th>2</th>\n",
       "      <td>CHEMBL10</td>\n",
       "      <td>{'canonical_smiles': 'C[S+]([O-])c1ccc(-c2nc(-...</td>\n",
       "    </tr>\n",
       "    <tr>\n",
       "      <th>3</th>\n",
       "      <td>CHEMBL6976</td>\n",
       "      <td>{'canonical_smiles': 'COc1cc2c(cc1OC)Nc1ncn(C)...</td>\n",
       "    </tr>\n",
       "    <tr>\n",
       "      <th>4</th>\n",
       "      <td>CHEMBL7002</td>\n",
       "      <td>{'canonical_smiles': 'CC1(COc2ccc(CC3SC(=O)NC3...</td>\n",
       "    </tr>\n",
       "  </tbody>\n",
       "</table>\n",
       "</div>"
      ],
      "text/plain": [
       "  molecule_chembl_id                                molecule_structures\n",
       "0         CHEMBL6246  {'canonical_smiles': 'O=c1oc2c(O)c(O)cc3c(=O)o...\n",
       "1         CHEMBL6246  {'canonical_smiles': 'O=c1oc2c(O)c(O)cc3c(=O)o...\n",
       "2           CHEMBL10  {'canonical_smiles': 'C[S+]([O-])c1ccc(-c2nc(-...\n",
       "3         CHEMBL6976  {'canonical_smiles': 'COc1cc2c(cc1OC)Nc1ncn(C)...\n",
       "4         CHEMBL7002  {'canonical_smiles': 'CC1(COc2ccc(CC3SC(=O)NC3..."
      ]
     },
     "execution_count": 29,
     "metadata": {},
     "output_type": "execute_result"
    }
   ],
   "source": [
    "compounds_df.head()"
   ]
  },
  {
   "cell_type": "markdown",
   "metadata": {},
   "source": [
    "#### Preprocess and filter compound data\n",
    "\n",
    "1. Remove entries with missing entries\n",
    "2. Delete duplicate molecules (by molecule_chembl_id)\n",
    "3. Get molecules with canonical SMILES"
   ]
  },
  {
   "cell_type": "markdown",
   "metadata": {},
   "source": [
    "**1. Remove entries with missing molecule structure entry**"
   ]
  },
  {
   "cell_type": "code",
   "execution_count": 30,
   "metadata": {},
   "outputs": [
    {
     "name": "stdout",
     "output_type": "stream",
     "text": [
      "DataFrame shape: (5445, 2)\n"
     ]
    }
   ],
   "source": [
    "compounds_df.dropna(axis=0, how=\"any\", inplace=True)\n",
    "print(f\"DataFrame shape: {compounds_df.shape}\")"
   ]
  },
  {
   "cell_type": "markdown",
   "metadata": {},
   "source": [
    "**2. Delete duplicate molecules**"
   ]
  },
  {
   "cell_type": "code",
   "execution_count": 31,
   "metadata": {},
   "outputs": [
    {
     "name": "stdout",
     "output_type": "stream",
     "text": [
      "DataFrame shape: (5444, 2)\n"
     ]
    }
   ],
   "source": [
    "compounds_df.drop_duplicates(\"molecule_chembl_id\", keep=\"first\", inplace=True)\n",
    "print(f\"DataFrame shape: {compounds_df.shape}\")"
   ]
  },
  {
   "cell_type": "markdown",
   "metadata": {},
   "source": [
    "**3. Get molecules with canonical SMILES**\n",
    "\n",
    "So far, we have multiple different molecular structure representations. We only want to keep the canonical SMILES."
   ]
  },
  {
   "cell_type": "code",
   "execution_count": 32,
   "metadata": {},
   "outputs": [
    {
     "data": {
      "text/plain": [
       "dict_keys(['canonical_smiles', 'molfile', 'standard_inchi', 'standard_inchi_key'])"
      ]
     },
     "execution_count": 32,
     "metadata": {},
     "output_type": "execute_result"
    }
   ],
   "source": [
    "compounds_df.iloc[0].molecule_structures.keys()"
   ]
  },
  {
   "cell_type": "code",
   "execution_count": 33,
   "metadata": {},
   "outputs": [
    {
     "name": "stdout",
     "output_type": "stream",
     "text": [
      "DataFrame shape: (5444, 2)\n"
     ]
    }
   ],
   "source": [
    "canonical_smiles = []\n",
    "\n",
    "for i, compounds in compounds_df.iterrows():\n",
    "    try:\n",
    "        canonical_smiles.append(compounds[\"molecule_structures\"][\"canonical_smiles\"])\n",
    "    except KeyError:\n",
    "        canonical_smiles.append(None)\n",
    "\n",
    "compounds_df[\"smiles\"] = canonical_smiles\n",
    "compounds_df.drop(\"molecule_structures\", axis=1, inplace=True)\n",
    "print(f\"DataFrame shape: {compounds_df.shape}\")"
   ]
  },
  {
   "cell_type": "markdown",
   "metadata": {},
   "source": [
    "Sanity check: Remove all molecules without a canonical SMILES string."
   ]
  },
  {
   "cell_type": "code",
   "execution_count": 34,
   "metadata": {},
   "outputs": [
    {
     "name": "stdout",
     "output_type": "stream",
     "text": [
      "DataFrame shape: (5444, 2)\n"
     ]
    }
   ],
   "source": [
    "compounds_df.dropna(axis=0, how=\"any\", inplace=True)\n",
    "print(f\"DataFrame shape: {compounds_df.shape}\")\n",
    "# NBVAL_CHECK_OUTPUT"
   ]
  },
  {
   "cell_type": "markdown",
   "metadata": {},
   "source": [
    "We now have a set of **5444** molecule ids with respective IC50 values for our target kinase."
   ]
  },
  {
   "cell_type": "markdown",
   "metadata": {},
   "source": [
    "### Output (bioactivity-compound) data\n",
    "**Summary of compound and bioactivity data**"
   ]
  },
  {
   "cell_type": "code",
   "execution_count": 35,
   "metadata": {},
   "outputs": [
    {
     "name": "stdout",
     "output_type": "stream",
     "text": [
      "Bioactivities filtered: 5451\n"
     ]
    },
    {
     "data": {
      "text/plain": [
       "Index(['activity_id', 'assay_chembl_id', 'assay_description', 'assay_type',\n",
       "       'molecule_chembl_id', 'relation', 'units', 'IC50', 'target_chembl_id',\n",
       "       'target_organism', 'type'],\n",
       "      dtype='object')"
      ]
     },
     "execution_count": 35,
     "metadata": {},
     "output_type": "execute_result"
    }
   ],
   "source": [
    "print(f\"Bioactivities filtered: {bioactivities_df.shape[0]}\")\n",
    "bioactivities_df.columns"
   ]
  },
  {
   "cell_type": "code",
   "execution_count": 36,
   "metadata": {},
   "outputs": [
    {
     "name": "stdout",
     "output_type": "stream",
     "text": [
      "Compounds filtered: 5444\n"
     ]
    },
    {
     "data": {
      "text/plain": [
       "Index(['molecule_chembl_id', 'smiles'], dtype='object')"
      ]
     },
     "execution_count": 36,
     "metadata": {},
     "output_type": "execute_result"
    }
   ],
   "source": [
    "print(f\"Compounds filtered: {compounds_df.shape[0]}\")\n",
    "compounds_df.columns"
   ]
  },
  {
   "cell_type": "markdown",
   "metadata": {},
   "source": [
    "#### Merge both datasets\n",
    "\n",
    "Merge values of interest from `bioactivities_df` and `compounds_df` in an `output_df` based on the compounds' ChEMBL IDs (`molecule_chembl_id`), keeping the following columns:\n",
    "\n",
    "* ChEMBL IDs: `molecule_chembl_id`\n",
    "* SMILES: `smiles`\n",
    "* units: `units`\n",
    "* IC50: `IC50`"
   ]
  },
  {
   "cell_type": "code",
   "execution_count": 37,
   "metadata": {},
   "outputs": [
    {
     "name": "stdout",
     "output_type": "stream",
     "text": [
      "Dataset with 5444 entries.\n"
     ]
    }
   ],
   "source": [
    "# Merge DataFrames\n",
    "output_df = pd.merge(\n",
    "    bioactivities_df[[\"molecule_chembl_id\", \"IC50\", \"units\"]],\n",
    "    compounds_df,\n",
    "    on=\"molecule_chembl_id\",\n",
    ")\n",
    "\n",
    "# Reset row indices\n",
    "output_df.reset_index(drop=True, inplace=True)\n",
    "\n",
    "print(f\"Dataset with {output_df.shape[0]} entries.\")\n",
    "# NBVAL_CHECK_OUTPUT"
   ]
  },
  {
   "cell_type": "markdown",
   "metadata": {},
   "source": [
    "Sanity check: The merged bioactivities/compound data set contains **5444** entries."
   ]
  },
  {
   "cell_type": "code",
   "execution_count": 38,
   "metadata": {},
   "outputs": [
    {
     "data": {
      "text/plain": [
       "molecule_chembl_id     object\n",
       "IC50                  float64\n",
       "units                  object\n",
       "smiles                 object\n",
       "dtype: object"
      ]
     },
     "execution_count": 38,
     "metadata": {},
     "output_type": "execute_result"
    }
   ],
   "source": [
    "output_df.dtypes"
   ]
  },
  {
   "cell_type": "code",
   "execution_count": 39,
   "metadata": {},
   "outputs": [
    {
     "data": {
      "text/html": [
       "<div>\n",
       "<style scoped>\n",
       "    .dataframe tbody tr th:only-of-type {\n",
       "        vertical-align: middle;\n",
       "    }\n",
       "\n",
       "    .dataframe tbody tr th {\n",
       "        vertical-align: top;\n",
       "    }\n",
       "\n",
       "    .dataframe thead th {\n",
       "        text-align: right;\n",
       "    }\n",
       "</style>\n",
       "<table border=\"1\" class=\"dataframe\">\n",
       "  <thead>\n",
       "    <tr style=\"text-align: right;\">\n",
       "      <th></th>\n",
       "      <th>molecule_chembl_id</th>\n",
       "      <th>IC50</th>\n",
       "      <th>units</th>\n",
       "      <th>smiles</th>\n",
       "    </tr>\n",
       "  </thead>\n",
       "  <tbody>\n",
       "    <tr>\n",
       "      <th>0</th>\n",
       "      <td>CHEMBL68920</td>\n",
       "      <td>41.0</td>\n",
       "      <td>nM</td>\n",
       "      <td>Cc1cc(C)c(/C=C2\\C(=O)Nc3ncnc(Nc4ccc(F)c(Cl)c4)...</td>\n",
       "    </tr>\n",
       "    <tr>\n",
       "      <th>1</th>\n",
       "      <td>CHEMBL69960</td>\n",
       "      <td>170.0</td>\n",
       "      <td>nM</td>\n",
       "      <td>Cc1cc(C(=O)N2CCOCC2)[nH]c1/C=C1\\C(=O)Nc2ncnc(N...</td>\n",
       "    </tr>\n",
       "    <tr>\n",
       "      <th>2</th>\n",
       "      <td>CHEMBL137635</td>\n",
       "      <td>9300.0</td>\n",
       "      <td>nM</td>\n",
       "      <td>CN(c1ccccc1)c1ncnc2ccc(N/N=N/Cc3ccccn3)cc12</td>\n",
       "    </tr>\n",
       "    <tr>\n",
       "      <th>3</th>\n",
       "      <td>CHEMBL306988</td>\n",
       "      <td>500000.0</td>\n",
       "      <td>nM</td>\n",
       "      <td>CC(=C(C#N)C#N)c1ccc(NC(=O)CCC(=O)O)cc1</td>\n",
       "    </tr>\n",
       "    <tr>\n",
       "      <th>4</th>\n",
       "      <td>CHEMBL66879</td>\n",
       "      <td>3000000.0</td>\n",
       "      <td>nM</td>\n",
       "      <td>O=C(O)/C=C/c1ccc(O)cc1</td>\n",
       "    </tr>\n",
       "    <tr>\n",
       "      <th>5</th>\n",
       "      <td>CHEMBL77085</td>\n",
       "      <td>96000.0</td>\n",
       "      <td>nM</td>\n",
       "      <td>N#CC(C#N)=Cc1cc(O)ccc1[N+](=O)[O-]</td>\n",
       "    </tr>\n",
       "    <tr>\n",
       "      <th>6</th>\n",
       "      <td>CHEMBL443268</td>\n",
       "      <td>5310.0</td>\n",
       "      <td>nM</td>\n",
       "      <td>Cc1cc(C(=O)NCCN2CCOCC2)[nH]c1/C=C1\\C(=O)N(C)c2...</td>\n",
       "    </tr>\n",
       "    <tr>\n",
       "      <th>7</th>\n",
       "      <td>CHEMBL76979</td>\n",
       "      <td>264000.0</td>\n",
       "      <td>nM</td>\n",
       "      <td>COc1cc(/C=C(\\C#N)C(=O)O)cc(OC)c1O</td>\n",
       "    </tr>\n",
       "    <tr>\n",
       "      <th>8</th>\n",
       "      <td>CHEMBL76589</td>\n",
       "      <td>125.0</td>\n",
       "      <td>nM</td>\n",
       "      <td>N#CC(C#N)=C(N)/C(C#N)=C/c1ccc(O)cc1</td>\n",
       "    </tr>\n",
       "    <tr>\n",
       "      <th>9</th>\n",
       "      <td>CHEMBL76904</td>\n",
       "      <td>35000.0</td>\n",
       "      <td>nM</td>\n",
       "      <td>N#CC(C#N)=Cc1ccc(O)c(O)c1</td>\n",
       "    </tr>\n",
       "  </tbody>\n",
       "</table>\n",
       "</div>"
      ],
      "text/plain": [
       "  molecule_chembl_id       IC50 units  \\\n",
       "0        CHEMBL68920       41.0    nM   \n",
       "1        CHEMBL69960      170.0    nM   \n",
       "2       CHEMBL137635     9300.0    nM   \n",
       "3       CHEMBL306988   500000.0    nM   \n",
       "4        CHEMBL66879  3000000.0    nM   \n",
       "5        CHEMBL77085    96000.0    nM   \n",
       "6       CHEMBL443268     5310.0    nM   \n",
       "7        CHEMBL76979   264000.0    nM   \n",
       "8        CHEMBL76589      125.0    nM   \n",
       "9        CHEMBL76904    35000.0    nM   \n",
       "\n",
       "                                              smiles  \n",
       "0  Cc1cc(C)c(/C=C2\\C(=O)Nc3ncnc(Nc4ccc(F)c(Cl)c4)...  \n",
       "1  Cc1cc(C(=O)N2CCOCC2)[nH]c1/C=C1\\C(=O)Nc2ncnc(N...  \n",
       "2        CN(c1ccccc1)c1ncnc2ccc(N/N=N/Cc3ccccn3)cc12  \n",
       "3             CC(=C(C#N)C#N)c1ccc(NC(=O)CCC(=O)O)cc1  \n",
       "4                             O=C(O)/C=C/c1ccc(O)cc1  \n",
       "5                 N#CC(C#N)=Cc1cc(O)ccc1[N+](=O)[O-]  \n",
       "6  Cc1cc(C(=O)NCCN2CCOCC2)[nH]c1/C=C1\\C(=O)N(C)c2...  \n",
       "7                  COc1cc(/C=C(\\C#N)C(=O)O)cc(OC)c1O  \n",
       "8                N#CC(C#N)=C(N)/C(C#N)=C/c1ccc(O)cc1  \n",
       "9                          N#CC(C#N)=Cc1ccc(O)c(O)c1  "
      ]
     },
     "execution_count": 39,
     "metadata": {},
     "output_type": "execute_result"
    }
   ],
   "source": [
    "output_df.head(10)"
   ]
  },
  {
   "cell_type": "markdown",
   "metadata": {},
   "source": [
    "#### Add pIC50 values"
   ]
  },
  {
   "cell_type": "markdown",
   "metadata": {},
   "source": [
    "As you can see the low IC50 values are difficult to read (values are distributed over multiple scales), which is why we convert the IC50 values to pIC50."
   ]
  },
  {
   "cell_type": "code",
   "execution_count": 40,
   "metadata": {},
   "outputs": [],
   "source": [
    "def convert_ic50_to_pic50(IC50_value):\n",
    "    pIC50_value = 9 - math.log10(IC50_value)\n",
    "    return pIC50_value"
   ]
  },
  {
   "cell_type": "code",
   "execution_count": 41,
   "metadata": {},
   "outputs": [],
   "source": [
    "# Apply conversion to each row of the compounds DataFrame\n",
    "output_df[\"pIC50\"] = output_df.apply(lambda x: convert_ic50_to_pic50(x.IC50), axis=1)"
   ]
  },
  {
   "cell_type": "code",
   "execution_count": 42,
   "metadata": {},
   "outputs": [
    {
     "data": {
      "text/html": [
       "<div>\n",
       "<style scoped>\n",
       "    .dataframe tbody tr th:only-of-type {\n",
       "        vertical-align: middle;\n",
       "    }\n",
       "\n",
       "    .dataframe tbody tr th {\n",
       "        vertical-align: top;\n",
       "    }\n",
       "\n",
       "    .dataframe thead th {\n",
       "        text-align: right;\n",
       "    }\n",
       "</style>\n",
       "<table border=\"1\" class=\"dataframe\">\n",
       "  <thead>\n",
       "    <tr style=\"text-align: right;\">\n",
       "      <th></th>\n",
       "      <th>molecule_chembl_id</th>\n",
       "      <th>IC50</th>\n",
       "      <th>units</th>\n",
       "      <th>smiles</th>\n",
       "      <th>pIC50</th>\n",
       "    </tr>\n",
       "  </thead>\n",
       "  <tbody>\n",
       "    <tr>\n",
       "      <th>0</th>\n",
       "      <td>CHEMBL68920</td>\n",
       "      <td>41.0</td>\n",
       "      <td>nM</td>\n",
       "      <td>Cc1cc(C)c(/C=C2\\C(=O)Nc3ncnc(Nc4ccc(F)c(Cl)c4)...</td>\n",
       "      <td>7.387216</td>\n",
       "    </tr>\n",
       "    <tr>\n",
       "      <th>1</th>\n",
       "      <td>CHEMBL69960</td>\n",
       "      <td>170.0</td>\n",
       "      <td>nM</td>\n",
       "      <td>Cc1cc(C(=O)N2CCOCC2)[nH]c1/C=C1\\C(=O)Nc2ncnc(N...</td>\n",
       "      <td>6.769551</td>\n",
       "    </tr>\n",
       "    <tr>\n",
       "      <th>2</th>\n",
       "      <td>CHEMBL137635</td>\n",
       "      <td>9300.0</td>\n",
       "      <td>nM</td>\n",
       "      <td>CN(c1ccccc1)c1ncnc2ccc(N/N=N/Cc3ccccn3)cc12</td>\n",
       "      <td>5.031517</td>\n",
       "    </tr>\n",
       "    <tr>\n",
       "      <th>3</th>\n",
       "      <td>CHEMBL306988</td>\n",
       "      <td>500000.0</td>\n",
       "      <td>nM</td>\n",
       "      <td>CC(=C(C#N)C#N)c1ccc(NC(=O)CCC(=O)O)cc1</td>\n",
       "      <td>3.301030</td>\n",
       "    </tr>\n",
       "    <tr>\n",
       "      <th>4</th>\n",
       "      <td>CHEMBL66879</td>\n",
       "      <td>3000000.0</td>\n",
       "      <td>nM</td>\n",
       "      <td>O=C(O)/C=C/c1ccc(O)cc1</td>\n",
       "      <td>2.522879</td>\n",
       "    </tr>\n",
       "  </tbody>\n",
       "</table>\n",
       "</div>"
      ],
      "text/plain": [
       "  molecule_chembl_id       IC50 units  \\\n",
       "0        CHEMBL68920       41.0    nM   \n",
       "1        CHEMBL69960      170.0    nM   \n",
       "2       CHEMBL137635     9300.0    nM   \n",
       "3       CHEMBL306988   500000.0    nM   \n",
       "4        CHEMBL66879  3000000.0    nM   \n",
       "\n",
       "                                              smiles     pIC50  \n",
       "0  Cc1cc(C)c(/C=C2\\C(=O)Nc3ncnc(Nc4ccc(F)c(Cl)c4)...  7.387216  \n",
       "1  Cc1cc(C(=O)N2CCOCC2)[nH]c1/C=C1\\C(=O)Nc2ncnc(N...  6.769551  \n",
       "2        CN(c1ccccc1)c1ncnc2ccc(N/N=N/Cc3ccccn3)cc12  5.031517  \n",
       "3             CC(=C(C#N)C#N)c1ccc(NC(=O)CCC(=O)O)cc1  3.301030  \n",
       "4                             O=C(O)/C=C/c1ccc(O)cc1  2.522879  "
      ]
     },
     "execution_count": 42,
     "metadata": {},
     "output_type": "execute_result"
    }
   ],
   "source": [
    "output_df.head()"
   ]
  },
  {
   "cell_type": "markdown",
   "metadata": {},
   "source": [
    "#### Draw compound data\n",
    "\n",
    "Let's have a look at our collected data set.\n",
    "\n",
    "First, we plot the pIC50 value distribution"
   ]
  },
  {
   "cell_type": "code",
   "execution_count": 43,
   "metadata": {
    "tags": [
     "nbsphinx-thumbnail"
    ]
   },
   "outputs": [
    {
     "name": "stderr",
     "output_type": "stream",
     "text": [
      "Matplotlib created a temporary config/cache directory at /tmp/matplotlib-7xhr_mbj because the default path (/home/andrea/.cache/matplotlib) is not a writable directory; it is highly recommended to set the MPLCONFIGDIR environment variable to a writable directory, in particular to speed up the import of Matplotlib and to better support multiprocessing.\n"
     ]
    },
    {
     "data": {
      "text/plain": [
       "array([[<AxesSubplot:title={'center':'pIC50'}>]], dtype=object)"
      ]
     },
     "execution_count": 43,
     "metadata": {},
     "output_type": "execute_result"
    },
    {
     "data": {
      "image/png": "[encoded data removed]",
      "text/plain": [
       "<Figure size 432x288 with 1 Axes>"
      ]
     },
     "metadata": {
      "needs_background": "light"
     },
     "output_type": "display_data"
    }
   ],
   "source": [
    "output_df.hist(column=\"pIC50\")"
   ]
  },
  {
   "cell_type": "markdown",
   "metadata": {},
   "source": [
    "In the next steps, we add a column for RDKit molecule objects to our `DataFrame` and look at the structures of the molecules with the highest pIC50 values. "
   ]
  },
  {
   "cell_type": "code",
   "execution_count": 44,
   "metadata": {},
   "outputs": [],
   "source": [
    "# Add molecule column\n",
    "PandasTools.AddMoleculeColumnToFrame(output_df, smilesCol=\"smiles\")"
   ]
  },
  {
   "cell_type": "code",
   "execution_count": 45,
   "metadata": {},
   "outputs": [],
   "source": [
    "# Sort molecules by pIC50\n",
    "output_df.sort_values(by=\"pIC50\", ascending=False, inplace=True)\n",
    "\n",
    "# Reset index\n",
    "output_df.reset_index(drop=True, inplace=True)"
   ]
  },
  {
   "cell_type": "markdown",
   "metadata": {},
   "source": [
    "Show the three most active molecules, i.e. molecules with the highest pIC50 values."
   ]
  },
  {
   "cell_type": "code",
   "execution_count": 46,
   "metadata": {},
   "outputs": [
    {
     "data": {
      "text/html": [
       "<div>\n",
       "<style scoped>\n",
       "    .dataframe tbody tr th:only-of-type {\n",
       "        vertical-align: middle;\n",
       "    }\n",
       "\n",
       "    .dataframe tbody tr th {\n",
       "        vertical-align: top;\n",
       "    }\n",
       "\n",
       "    .dataframe thead th {\n",
       "        text-align: right;\n",
       "    }\n",
       "</style>\n",
       "<table border=\"1\" class=\"dataframe\">\n",
       "  <thead>\n",
       "    <tr style=\"text-align: right;\">\n",
       "      <th></th>\n",
       "      <th>molecule_chembl_id</th>\n",
       "      <th>IC50</th>\n",
       "      <th>units</th>\n",
       "      <th>pIC50</th>\n",
       "      <th>ROMol</th>\n",
       "    </tr>\n",
       "  </thead>\n",
       "  <tbody>\n",
       "    <tr>\n",
       "      <th>0</th>\n",
       "      <td>CHEMBL63786</td>\n",
       "      <td>0.003</td>\n",
       "      <td>nM</td>\n",
       "      <td>11.522879</td>\n",
       "      <td><img data-content=\"rdkit/molecule\" src=\"data:image/png;base64,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\" alt=\"Mol\"/></td>\n",
       "    </tr>\n",
       "    <tr>\n",
       "      <th>1</th>\n",
       "      <td>CHEMBL35820</td>\n",
       "      <td>0.006</td>\n",
       "      <td>nM</td>\n",
       "      <td>11.221849</td>\n",
       "      <td><img data-content=\"rdkit/molecule\" src=\"data:image/png;base64,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\" alt=\"Mol\"/></td>\n",
       "    </tr>\n",
       "    <tr>\n",
       "      <th>2</th>\n",
       "      <td>CHEMBL53711</td>\n",
       "      <td>0.006</td>\n",
       "      <td>nM</td>\n",
       "      <td>11.221849</td>\n",
       "      <td><img data-content=\"rdkit/molecule\" src=\"data:image/png;base64,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\" alt=\"Mol\"/></td>\n",
       "    </tr>\n",
       "  </tbody>\n",
       "</table>\n",
       "</div>"
      ],
      "text/plain": [
       "  molecule_chembl_id   IC50 units      pIC50  \\\n",
       "0        CHEMBL63786  0.003    nM  11.522879   \n",
       "1        CHEMBL35820  0.006    nM  11.221849   \n",
       "2        CHEMBL53711  0.006    nM  11.221849   \n",
       "\n",
       "                                               ROMol  \n",
       "0  <img data-content=\"rdkit/molecule\" src=\"data:i...  \n",
       "1  <img data-content=\"rdkit/molecule\" src=\"data:i...  \n",
       "2  <img data-content=\"rdkit/molecule\" src=\"data:i...  "
      ]
     },
     "execution_count": 46,
     "metadata": {},
     "output_type": "execute_result"
    }
   ],
   "source": [
    "output_df.drop(\"smiles\", axis=1).head(3)"
   ]
  },
  {
   "cell_type": "markdown",
   "metadata": {},
   "source": [
    "#### Write output data to file\n",
    "\n",
    "We want to use this bioactivity-compound dataset in the following talktorials, thus we save the data as `csv` file. \n",
    "Note that it is advisable to drop the molecule column (which only contains an image of the molecules) when saving the data."
   ]
  },
  {
   "cell_type": "code",
   "execution_count": 47,
   "metadata": {
    "scrolled": true
   },
   "outputs": [],
   "source": [
    "output_df.drop(\"ROMol\", axis=1).to_csv(DATA / \"EGFR_compounds.csv\")"
   ]
  },
  {
   "cell_type": "code",
   "execution_count": 48,
   "metadata": {},
   "outputs": [
    {
     "name": "stdout",
     "output_type": "stream",
     "text": [
      "DataFrame shape: (5444, 6)\n"
     ]
    }
   ],
   "source": [
    "print(f\"DataFrame shape: {output_df.shape}\")"
   ]
  },
  {
   "cell_type": "markdown",
   "metadata": {},
   "source": [
    "## Discussion"
   ]
  },
  {
   "cell_type": "markdown",
   "metadata": {},
   "source": [
    "In this tutorial, we collected bioactivity data for our target of interest from the ChEMBL database. \n",
    "We filtered the data set in order to only contain molecules with measured IC50 bioactivity values. \n",
    "\n",
    "Be aware that ChEMBL data originates from various sources. Compound data has been generated in different labs by different people all over the world. Therefore, we have to be cautious with the predictions we make using this data set. It is always important to consider the source of the data and consistency of data production assays when interpreting the results and determining how much confidence we have in our predictions.\n",
    "\n",
    "In the next tutorials, we will filter our acquired data by Lipinski's rule of five and by unwanted substructures. Another important step would be to *clean* the molecular data. As this is not shown in any of our talktorials (yet), we would like to refer to the [Standardiser library](https://github.com/flatkinson/standardiser) or [MolVS](https://molvs.readthedocs.io/en/latest/) as useful tools for this task."
   ]
  },
  {
   "cell_type": "markdown",
   "metadata": {},
   "source": [
    "## Quiz"
   ]
  },
  {
   "cell_type": "markdown",
   "metadata": {},
   "source": [
    "* We have downloaded in this talktorial molecules and bioactivity data from ChEMBL. What else is the ChEMBL database useful for?\n",
    "* What is the difference between IC50 and EC50?\n",
    "* What can we use the data extracted from ChEMBL for?"
   ]
  }
 ],
 "metadata": {
  "kernelspec": {
   "display_name": "Python 3",
   "language": "python",
   "name": "python3"
  },
  "language_info": {
   "codemirror_mode": {
    "name": "ipython",
    "version": 3
   },
   "file_extension": ".py",
   "mimetype": "text/x-python",
   "name": "python",
   "nbconvert_exporter": "python",
   "pygments_lexer": "ipython3",
   "version": "3.8.5"
  },
  "toc-autonumbering": true,
  "toc-showmarkdowntxt": false,
  "toc-showtags": false,
  "widgets": {
   "application/vnd.jupyter.widget-state+json": {
    "state": {},
    "version_major": 2,
    "version_minor": 0
   }
  }
 },
 "nbformat": 4,
 "nbformat_minor": 4
}
